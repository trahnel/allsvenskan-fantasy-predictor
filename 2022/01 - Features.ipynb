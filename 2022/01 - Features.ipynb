{
 "cells": [
  {
   "cell_type": "code",
   "execution_count": 1,
   "id": "9c04379b",
   "metadata": {},
   "outputs": [],
   "source": [
    "import json\n",
    "import pandas as pd"
   ]
  },
  {
   "cell_type": "markdown",
   "id": "436099fb",
   "metadata": {},
   "source": [
    "# Load player season history and create features"
   ]
  },
  {
   "cell_type": "code",
   "execution_count": 2,
   "id": "aebd0733",
   "metadata": {},
   "outputs": [
    {
     "data": {
      "text/plain": [
       "(862, 33)"
      ]
     },
     "execution_count": 2,
     "metadata": {},
     "output_type": "execute_result"
    }
   ],
   "source": [
    "# Load all player season history into a single data frame\n",
    "with open('data/during-season/bootstrap-static.json', 'r') as json_file:\n",
    "    data = json.loads(json_file.read())\n",
    "    \n",
    "df_player_overview = pd.json_normalize(data, record_path='elements')\n",
    "\n",
    "df_players_history = pd.DataFrame()\n",
    "for index, player in df_player_overview.iterrows():\n",
    "    player_id = str(player['id'])\n",
    "    first_name = player['first_name']\n",
    "    last_name = player['second_name']    \n",
    "    file_name = f\"{player_id.rjust(3, '0')}_{first_name}_{last_name}\".replace(' ', '_')\n",
    "\n",
    "    with open(f'data/during-season/players/{file_name}.json', 'r') as json_file:\n",
    "        data = json.loads(json_file.read())\n",
    "        df_player_history = pd.json_normalize(data, record_path='history')\n",
    "        df_players_history = df_players_history.append(df_player_history)\n",
    "\n",
    "df_players_history.shape"
   ]
  },
  {
   "cell_type": "code",
   "execution_count": 3,
   "id": "9057c126",
   "metadata": {},
   "outputs": [],
   "source": [
    "df_players_history.to_csv('data/during-season/player_history.csv', index=False)"
   ]
  },
  {
   "cell_type": "code",
   "execution_count": null,
   "id": "f226730d",
   "metadata": {},
   "outputs": [],
   "source": []
  }
 ],
 "metadata": {
  "kernelspec": {
   "display_name": "Python 3",
   "language": "python",
   "name": "python3"
  },
  "language_info": {
   "codemirror_mode": {
    "name": "ipython",
    "version": 3
   },
   "file_extension": ".py",
   "mimetype": "text/x-python",
   "name": "python",
   "nbconvert_exporter": "python",
   "pygments_lexer": "ipython3",
   "version": "3.9.6"
  }
 },
 "nbformat": 4,
 "nbformat_minor": 5
}
