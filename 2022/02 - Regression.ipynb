{
 "cells": [
  {
   "cell_type": "code",
   "execution_count": 1,
   "id": "4bb169d1",
   "metadata": {},
   "outputs": [],
   "source": [
    "import pandas as pd\n",
    "\n",
    "%matplotlib inline\n",
    "import matplotlib.pyplot as plt"
   ]
  },
  {
   "cell_type": "code",
   "execution_count": 2,
   "id": "9f300ecf",
   "metadata": {
    "scrolled": false
   },
   "outputs": [
    {
     "data": {
      "text/html": [
       "<div>\n",
       "<style scoped>\n",
       "    .dataframe tbody tr th:only-of-type {\n",
       "        vertical-align: middle;\n",
       "    }\n",
       "\n",
       "    .dataframe tbody tr th {\n",
       "        vertical-align: top;\n",
       "    }\n",
       "\n",
       "    .dataframe thead th {\n",
       "        text-align: right;\n",
       "    }\n",
       "</style>\n",
       "<table border=\"1\" class=\"dataframe\">\n",
       "  <thead>\n",
       "    <tr style=\"text-align: right;\">\n",
       "      <th></th>\n",
       "      <th>0</th>\n",
       "      <th>1</th>\n",
       "      <th>2</th>\n",
       "      <th>3</th>\n",
       "      <th>4</th>\n",
       "    </tr>\n",
       "  </thead>\n",
       "  <tbody>\n",
       "    <tr>\n",
       "      <th>element</th>\n",
       "      <td>1</td>\n",
       "      <td>1</td>\n",
       "      <td>2</td>\n",
       "      <td>2</td>\n",
       "      <td>3</td>\n",
       "    </tr>\n",
       "    <tr>\n",
       "      <th>fixture</th>\n",
       "      <td>6</td>\n",
       "      <td>16</td>\n",
       "      <td>6</td>\n",
       "      <td>16</td>\n",
       "      <td>6</td>\n",
       "    </tr>\n",
       "    <tr>\n",
       "      <th>opponent_team</th>\n",
       "      <td>10</td>\n",
       "      <td>5</td>\n",
       "      <td>10</td>\n",
       "      <td>5</td>\n",
       "      <td>10</td>\n",
       "    </tr>\n",
       "    <tr>\n",
       "      <th>total_points</th>\n",
       "      <td>6</td>\n",
       "      <td>3</td>\n",
       "      <td>0</td>\n",
       "      <td>0</td>\n",
       "      <td>0</td>\n",
       "    </tr>\n",
       "    <tr>\n",
       "      <th>was_home</th>\n",
       "      <td>False</td>\n",
       "      <td>True</td>\n",
       "      <td>False</td>\n",
       "      <td>True</td>\n",
       "      <td>False</td>\n",
       "    </tr>\n",
       "    <tr>\n",
       "      <th>kickoff_time</th>\n",
       "      <td>2022-04-03T15:30:00Z</td>\n",
       "      <td>2022-04-11T17:10:00Z</td>\n",
       "      <td>2022-04-03T15:30:00Z</td>\n",
       "      <td>2022-04-11T17:10:00Z</td>\n",
       "      <td>2022-04-03T15:30:00Z</td>\n",
       "    </tr>\n",
       "    <tr>\n",
       "      <th>team_h_score</th>\n",
       "      <td>0</td>\n",
       "      <td>1</td>\n",
       "      <td>0</td>\n",
       "      <td>1</td>\n",
       "      <td>0</td>\n",
       "    </tr>\n",
       "    <tr>\n",
       "      <th>team_a_score</th>\n",
       "      <td>1</td>\n",
       "      <td>1</td>\n",
       "      <td>1</td>\n",
       "      <td>1</td>\n",
       "      <td>1</td>\n",
       "    </tr>\n",
       "    <tr>\n",
       "      <th>round</th>\n",
       "      <td>1</td>\n",
       "      <td>2</td>\n",
       "      <td>1</td>\n",
       "      <td>2</td>\n",
       "      <td>1</td>\n",
       "    </tr>\n",
       "    <tr>\n",
       "      <th>minutes</th>\n",
       "      <td>90</td>\n",
       "      <td>90</td>\n",
       "      <td>0</td>\n",
       "      <td>0</td>\n",
       "      <td>0</td>\n",
       "    </tr>\n",
       "    <tr>\n",
       "      <th>goals_scored</th>\n",
       "      <td>0</td>\n",
       "      <td>0</td>\n",
       "      <td>0</td>\n",
       "      <td>0</td>\n",
       "      <td>0</td>\n",
       "    </tr>\n",
       "    <tr>\n",
       "      <th>assists</th>\n",
       "      <td>0</td>\n",
       "      <td>0</td>\n",
       "      <td>0</td>\n",
       "      <td>0</td>\n",
       "      <td>0</td>\n",
       "    </tr>\n",
       "    <tr>\n",
       "      <th>clean_sheets</th>\n",
       "      <td>1</td>\n",
       "      <td>0</td>\n",
       "      <td>0</td>\n",
       "      <td>0</td>\n",
       "      <td>0</td>\n",
       "    </tr>\n",
       "    <tr>\n",
       "      <th>goals_conceded</th>\n",
       "      <td>0</td>\n",
       "      <td>1</td>\n",
       "      <td>0</td>\n",
       "      <td>0</td>\n",
       "      <td>0</td>\n",
       "    </tr>\n",
       "    <tr>\n",
       "      <th>penalties_saved</th>\n",
       "      <td>0</td>\n",
       "      <td>0</td>\n",
       "      <td>0</td>\n",
       "      <td>0</td>\n",
       "      <td>0</td>\n",
       "    </tr>\n",
       "    <tr>\n",
       "      <th>penalties_missed</th>\n",
       "      <td>0</td>\n",
       "      <td>0</td>\n",
       "      <td>0</td>\n",
       "      <td>0</td>\n",
       "      <td>0</td>\n",
       "    </tr>\n",
       "    <tr>\n",
       "      <th>yellow_cards</th>\n",
       "      <td>0</td>\n",
       "      <td>0</td>\n",
       "      <td>0</td>\n",
       "      <td>0</td>\n",
       "      <td>0</td>\n",
       "    </tr>\n",
       "    <tr>\n",
       "      <th>red_cards</th>\n",
       "      <td>0</td>\n",
       "      <td>0</td>\n",
       "      <td>0</td>\n",
       "      <td>0</td>\n",
       "      <td>0</td>\n",
       "    </tr>\n",
       "    <tr>\n",
       "      <th>saves</th>\n",
       "      <td>1</td>\n",
       "      <td>4</td>\n",
       "      <td>0</td>\n",
       "      <td>0</td>\n",
       "      <td>0</td>\n",
       "    </tr>\n",
       "    <tr>\n",
       "      <th>own_goals</th>\n",
       "      <td>0</td>\n",
       "      <td>0</td>\n",
       "      <td>0</td>\n",
       "      <td>0</td>\n",
       "      <td>0</td>\n",
       "    </tr>\n",
       "    <tr>\n",
       "      <th>attacking_bonus</th>\n",
       "      <td>0</td>\n",
       "      <td>0</td>\n",
       "      <td>0</td>\n",
       "      <td>0</td>\n",
       "      <td>0</td>\n",
       "    </tr>\n",
       "    <tr>\n",
       "      <th>defending_bonus</th>\n",
       "      <td>0</td>\n",
       "      <td>0</td>\n",
       "      <td>0</td>\n",
       "      <td>0</td>\n",
       "      <td>0</td>\n",
       "    </tr>\n",
       "    <tr>\n",
       "      <th>winning_goals</th>\n",
       "      <td>0</td>\n",
       "      <td>0</td>\n",
       "      <td>0</td>\n",
       "      <td>0</td>\n",
       "      <td>0</td>\n",
       "    </tr>\n",
       "    <tr>\n",
       "      <th>crosses</th>\n",
       "      <td>0</td>\n",
       "      <td>0</td>\n",
       "      <td>0</td>\n",
       "      <td>0</td>\n",
       "      <td>0</td>\n",
       "    </tr>\n",
       "    <tr>\n",
       "      <th>key_passes</th>\n",
       "      <td>0</td>\n",
       "      <td>0</td>\n",
       "      <td>0</td>\n",
       "      <td>0</td>\n",
       "      <td>0</td>\n",
       "    </tr>\n",
       "    <tr>\n",
       "      <th>big_chances_created</th>\n",
       "      <td>0</td>\n",
       "      <td>0</td>\n",
       "      <td>0</td>\n",
       "      <td>0</td>\n",
       "      <td>0</td>\n",
       "    </tr>\n",
       "    <tr>\n",
       "      <th>clearances_blocks_interceptions</th>\n",
       "      <td>6</td>\n",
       "      <td>6</td>\n",
       "      <td>0</td>\n",
       "      <td>0</td>\n",
       "      <td>0</td>\n",
       "    </tr>\n",
       "    <tr>\n",
       "      <th>recoveries</th>\n",
       "      <td>5</td>\n",
       "      <td>6</td>\n",
       "      <td>0</td>\n",
       "      <td>0</td>\n",
       "      <td>0</td>\n",
       "    </tr>\n",
       "    <tr>\n",
       "      <th>value</th>\n",
       "      <td>60</td>\n",
       "      <td>60</td>\n",
       "      <td>45</td>\n",
       "      <td>45</td>\n",
       "      <td>60</td>\n",
       "    </tr>\n",
       "    <tr>\n",
       "      <th>transfers_balance</th>\n",
       "      <td>0</td>\n",
       "      <td>201</td>\n",
       "      <td>0</td>\n",
       "      <td>-39</td>\n",
       "      <td>0</td>\n",
       "    </tr>\n",
       "    <tr>\n",
       "      <th>selected</th>\n",
       "      <td>4920</td>\n",
       "      <td>5787</td>\n",
       "      <td>1073</td>\n",
       "      <td>1099</td>\n",
       "      <td>567</td>\n",
       "    </tr>\n",
       "    <tr>\n",
       "      <th>transfers_in</th>\n",
       "      <td>0</td>\n",
       "      <td>284</td>\n",
       "      <td>0</td>\n",
       "      <td>19</td>\n",
       "      <td>0</td>\n",
       "    </tr>\n",
       "    <tr>\n",
       "      <th>transfers_out</th>\n",
       "      <td>0</td>\n",
       "      <td>83</td>\n",
       "      <td>0</td>\n",
       "      <td>58</td>\n",
       "      <td>0</td>\n",
       "    </tr>\n",
       "  </tbody>\n",
       "</table>\n",
       "</div>"
      ],
      "text/plain": [
       "                                                    0                     1  \\\n",
       "element                                             1                     1   \n",
       "fixture                                             6                    16   \n",
       "opponent_team                                      10                     5   \n",
       "total_points                                        6                     3   \n",
       "was_home                                        False                  True   \n",
       "kickoff_time                     2022-04-03T15:30:00Z  2022-04-11T17:10:00Z   \n",
       "team_h_score                                        0                     1   \n",
       "team_a_score                                        1                     1   \n",
       "round                                               1                     2   \n",
       "minutes                                            90                    90   \n",
       "goals_scored                                        0                     0   \n",
       "assists                                             0                     0   \n",
       "clean_sheets                                        1                     0   \n",
       "goals_conceded                                      0                     1   \n",
       "penalties_saved                                     0                     0   \n",
       "penalties_missed                                    0                     0   \n",
       "yellow_cards                                        0                     0   \n",
       "red_cards                                           0                     0   \n",
       "saves                                               1                     4   \n",
       "own_goals                                           0                     0   \n",
       "attacking_bonus                                     0                     0   \n",
       "defending_bonus                                     0                     0   \n",
       "winning_goals                                       0                     0   \n",
       "crosses                                             0                     0   \n",
       "key_passes                                          0                     0   \n",
       "big_chances_created                                 0                     0   \n",
       "clearances_blocks_interceptions                     6                     6   \n",
       "recoveries                                          5                     6   \n",
       "value                                              60                    60   \n",
       "transfers_balance                                   0                   201   \n",
       "selected                                         4920                  5787   \n",
       "transfers_in                                        0                   284   \n",
       "transfers_out                                       0                    83   \n",
       "\n",
       "                                                    2                     3  \\\n",
       "element                                             2                     2   \n",
       "fixture                                             6                    16   \n",
       "opponent_team                                      10                     5   \n",
       "total_points                                        0                     0   \n",
       "was_home                                        False                  True   \n",
       "kickoff_time                     2022-04-03T15:30:00Z  2022-04-11T17:10:00Z   \n",
       "team_h_score                                        0                     1   \n",
       "team_a_score                                        1                     1   \n",
       "round                                               1                     2   \n",
       "minutes                                             0                     0   \n",
       "goals_scored                                        0                     0   \n",
       "assists                                             0                     0   \n",
       "clean_sheets                                        0                     0   \n",
       "goals_conceded                                      0                     0   \n",
       "penalties_saved                                     0                     0   \n",
       "penalties_missed                                    0                     0   \n",
       "yellow_cards                                        0                     0   \n",
       "red_cards                                           0                     0   \n",
       "saves                                               0                     0   \n",
       "own_goals                                           0                     0   \n",
       "attacking_bonus                                     0                     0   \n",
       "defending_bonus                                     0                     0   \n",
       "winning_goals                                       0                     0   \n",
       "crosses                                             0                     0   \n",
       "key_passes                                          0                     0   \n",
       "big_chances_created                                 0                     0   \n",
       "clearances_blocks_interceptions                     0                     0   \n",
       "recoveries                                          0                     0   \n",
       "value                                              45                    45   \n",
       "transfers_balance                                   0                   -39   \n",
       "selected                                         1073                  1099   \n",
       "transfers_in                                        0                    19   \n",
       "transfers_out                                       0                    58   \n",
       "\n",
       "                                                    4  \n",
       "element                                             3  \n",
       "fixture                                             6  \n",
       "opponent_team                                      10  \n",
       "total_points                                        0  \n",
       "was_home                                        False  \n",
       "kickoff_time                     2022-04-03T15:30:00Z  \n",
       "team_h_score                                        0  \n",
       "team_a_score                                        1  \n",
       "round                                               1  \n",
       "minutes                                             0  \n",
       "goals_scored                                        0  \n",
       "assists                                             0  \n",
       "clean_sheets                                        0  \n",
       "goals_conceded                                      0  \n",
       "penalties_saved                                     0  \n",
       "penalties_missed                                    0  \n",
       "yellow_cards                                        0  \n",
       "red_cards                                           0  \n",
       "saves                                               0  \n",
       "own_goals                                           0  \n",
       "attacking_bonus                                     0  \n",
       "defending_bonus                                     0  \n",
       "winning_goals                                       0  \n",
       "crosses                                             0  \n",
       "key_passes                                          0  \n",
       "big_chances_created                                 0  \n",
       "clearances_blocks_interceptions                     0  \n",
       "recoveries                                          0  \n",
       "value                                              60  \n",
       "transfers_balance                                   0  \n",
       "selected                                          567  \n",
       "transfers_in                                        0  \n",
       "transfers_out                                       0  "
      ]
     },
     "execution_count": 2,
     "metadata": {},
     "output_type": "execute_result"
    }
   ],
   "source": [
    "# Load player history (training data)\n",
    "# df_train = pd.read_csv('data/during-season/player_history.csv', parse_dates=['kickoff_time'])\n",
    "df_train = pd.read_csv('data/during-season/player_history.csv',\n",
    "                       dtype={'element': str, 'opponent_team': str})\n",
    "df_train.head(5).T"
   ]
  },
  {
   "cell_type": "code",
   "execution_count": 4,
   "id": "909e3443",
   "metadata": {},
   "outputs": [
    {
     "data": {
      "text/html": [
       "<div>\n",
       "<style scoped>\n",
       "    .dataframe tbody tr th:only-of-type {\n",
       "        vertical-align: middle;\n",
       "    }\n",
       "\n",
       "    .dataframe tbody tr th {\n",
       "        vertical-align: top;\n",
       "    }\n",
       "\n",
       "    .dataframe thead th {\n",
       "        text-align: right;\n",
       "    }\n",
       "</style>\n",
       "<table border=\"1\" class=\"dataframe\">\n",
       "  <thead>\n",
       "    <tr style=\"text-align: right;\">\n",
       "      <th></th>\n",
       "      <th>element</th>\n",
       "      <th>fixture</th>\n",
       "      <th>opponent_team</th>\n",
       "      <th>total_points</th>\n",
       "      <th>was_home</th>\n",
       "      <th>kickoff_time</th>\n",
       "      <th>team_h_score</th>\n",
       "      <th>team_a_score</th>\n",
       "      <th>round</th>\n",
       "      <th>minutes</th>\n",
       "      <th>...</th>\n",
       "      <th>crosses</th>\n",
       "      <th>key_passes</th>\n",
       "      <th>big_chances_created</th>\n",
       "      <th>clearances_blocks_interceptions</th>\n",
       "      <th>recoveries</th>\n",
       "      <th>value</th>\n",
       "      <th>transfers_balance</th>\n",
       "      <th>selected</th>\n",
       "      <th>transfers_in</th>\n",
       "      <th>transfers_out</th>\n",
       "    </tr>\n",
       "  </thead>\n",
       "  <tbody>\n",
       "    <tr>\n",
       "      <th>502</th>\n",
       "      <td>252</td>\n",
       "      <td>7</td>\n",
       "      <td>16</td>\n",
       "      <td>14</td>\n",
       "      <td>True</td>\n",
       "      <td>2022-04-04T17:10:00Z</td>\n",
       "      <td>3</td>\n",
       "      <td>1</td>\n",
       "      <td>1</td>\n",
       "      <td>89</td>\n",
       "      <td>...</td>\n",
       "      <td>0</td>\n",
       "      <td>2</td>\n",
       "      <td>0</td>\n",
       "      <td>2</td>\n",
       "      <td>2</td>\n",
       "      <td>100</td>\n",
       "      <td>0</td>\n",
       "      <td>11215</td>\n",
       "      <td>0</td>\n",
       "      <td>0</td>\n",
       "    </tr>\n",
       "    <tr>\n",
       "      <th>503</th>\n",
       "      <td>252</td>\n",
       "      <td>13</td>\n",
       "      <td>14</td>\n",
       "      <td>3</td>\n",
       "      <td>False</td>\n",
       "      <td>2022-04-10T15:30:00Z</td>\n",
       "      <td>1</td>\n",
       "      <td>0</td>\n",
       "      <td>2</td>\n",
       "      <td>90</td>\n",
       "      <td>...</td>\n",
       "      <td>1</td>\n",
       "      <td>2</td>\n",
       "      <td>0</td>\n",
       "      <td>1</td>\n",
       "      <td>1</td>\n",
       "      <td>100</td>\n",
       "      <td>752</td>\n",
       "      <td>12942</td>\n",
       "      <td>839</td>\n",
       "      <td>87</td>\n",
       "    </tr>\n",
       "  </tbody>\n",
       "</table>\n",
       "<p>2 rows × 33 columns</p>\n",
       "</div>"
      ],
      "text/plain": [
       "    element  fixture opponent_team  total_points  was_home  \\\n",
       "502     252        7            16            14      True   \n",
       "503     252       13            14             3     False   \n",
       "\n",
       "             kickoff_time  team_h_score  team_a_score  round  minutes  ...  \\\n",
       "502  2022-04-04T17:10:00Z             3             1      1       89  ...   \n",
       "503  2022-04-10T15:30:00Z             1             0      2       90  ...   \n",
       "\n",
       "     crosses  key_passes  big_chances_created  \\\n",
       "502        0           2                    0   \n",
       "503        1           2                    0   \n",
       "\n",
       "     clearances_blocks_interceptions  recoveries  value  transfers_balance  \\\n",
       "502                                2           2    100                  0   \n",
       "503                                1           1    100                752   \n",
       "\n",
       "     selected  transfers_in  transfers_out  \n",
       "502     11215             0              0  \n",
       "503     12942           839             87  \n",
       "\n",
       "[2 rows x 33 columns]"
      ]
     },
     "execution_count": 4,
     "metadata": {},
     "output_type": "execute_result"
    }
   ],
   "source": [
    "df_train[df_train[\"element\"] == '252']"
   ]
  },
  {
   "cell_type": "code",
   "execution_count": 5,
   "id": "d8db389c",
   "metadata": {
    "scrolled": true
   },
   "outputs": [
    {
     "name": "stdout",
     "output_type": "stream",
     "text": [
      "<class 'pandas.core.frame.DataFrame'>\n",
      "RangeIndex: 862 entries, 0 to 861\n",
      "Data columns (total 33 columns):\n",
      " #   Column                           Non-Null Count  Dtype \n",
      "---  ------                           --------------  ----- \n",
      " 0   element                          862 non-null    object\n",
      " 1   fixture                          862 non-null    int64 \n",
      " 2   opponent_team                    862 non-null    object\n",
      " 3   total_points                     862 non-null    int64 \n",
      " 4   was_home                         862 non-null    bool  \n",
      " 5   kickoff_time                     862 non-null    object\n",
      " 6   team_h_score                     862 non-null    int64 \n",
      " 7   team_a_score                     862 non-null    int64 \n",
      " 8   round                            862 non-null    int64 \n",
      " 9   minutes                          862 non-null    int64 \n",
      " 10  goals_scored                     862 non-null    int64 \n",
      " 11  assists                          862 non-null    int64 \n",
      " 12  clean_sheets                     862 non-null    int64 \n",
      " 13  goals_conceded                   862 non-null    int64 \n",
      " 14  penalties_saved                  862 non-null    int64 \n",
      " 15  penalties_missed                 862 non-null    int64 \n",
      " 16  yellow_cards                     862 non-null    int64 \n",
      " 17  red_cards                        862 non-null    int64 \n",
      " 18  saves                            862 non-null    int64 \n",
      " 19  own_goals                        862 non-null    int64 \n",
      " 20  attacking_bonus                  862 non-null    int64 \n",
      " 21  defending_bonus                  862 non-null    int64 \n",
      " 22  winning_goals                    862 non-null    int64 \n",
      " 23  crosses                          862 non-null    int64 \n",
      " 24  key_passes                       862 non-null    int64 \n",
      " 25  big_chances_created              862 non-null    int64 \n",
      " 26  clearances_blocks_interceptions  862 non-null    int64 \n",
      " 27  recoveries                       862 non-null    int64 \n",
      " 28  value                            862 non-null    int64 \n",
      " 29  transfers_balance                862 non-null    int64 \n",
      " 30  selected                         862 non-null    int64 \n",
      " 31  transfers_in                     862 non-null    int64 \n",
      " 32  transfers_out                    862 non-null    int64 \n",
      "dtypes: bool(1), int64(29), object(3)\n",
      "memory usage: 216.5+ KB\n"
     ]
    }
   ],
   "source": [
    "df_train.info()"
   ]
  },
  {
   "cell_type": "code",
   "execution_count": 6,
   "id": "a9b27489",
   "metadata": {
    "scrolled": true
   },
   "outputs": [
    {
     "data": {
      "text/plain": [
       "Index(['element', 'fixture', 'opponent_team', 'total_points', 'was_home',\n",
       "       'kickoff_time', 'team_h_score', 'team_a_score', 'round', 'minutes',\n",
       "       'goals_scored', 'assists', 'clean_sheets', 'goals_conceded',\n",
       "       'penalties_saved', 'penalties_missed', 'yellow_cards', 'red_cards',\n",
       "       'saves', 'own_goals', 'attacking_bonus', 'defending_bonus',\n",
       "       'winning_goals', 'crosses', 'key_passes', 'big_chances_created',\n",
       "       'clearances_blocks_interceptions', 'recoveries', 'value',\n",
       "       'transfers_balance', 'selected', 'transfers_in', 'transfers_out'],\n",
       "      dtype='object')"
      ]
     },
     "execution_count": 6,
     "metadata": {},
     "output_type": "execute_result"
    }
   ],
   "source": [
    "df_tmp = df_train.copy()\n",
    "df_tmp.columns"
   ]
  },
  {
   "cell_type": "code",
   "execution_count": 7,
   "id": "5a502822",
   "metadata": {},
   "outputs": [
    {
     "data": {
      "text/html": [
       "<div>\n",
       "<style scoped>\n",
       "    .dataframe tbody tr th:only-of-type {\n",
       "        vertical-align: middle;\n",
       "    }\n",
       "\n",
       "    .dataframe tbody tr th {\n",
       "        vertical-align: top;\n",
       "    }\n",
       "\n",
       "    .dataframe thead th {\n",
       "        text-align: right;\n",
       "    }\n",
       "</style>\n",
       "<table border=\"1\" class=\"dataframe\">\n",
       "  <thead>\n",
       "    <tr style=\"text-align: right;\">\n",
       "      <th></th>\n",
       "      <th>element</th>\n",
       "      <th>fixture</th>\n",
       "      <th>opponent_team</th>\n",
       "      <th>total_points</th>\n",
       "      <th>was_home</th>\n",
       "      <th>kickoff_time</th>\n",
       "      <th>team_h_score</th>\n",
       "      <th>team_a_score</th>\n",
       "      <th>round</th>\n",
       "      <th>minutes</th>\n",
       "      <th>...</th>\n",
       "      <th>crosses</th>\n",
       "      <th>key_passes</th>\n",
       "      <th>big_chances_created</th>\n",
       "      <th>clearances_blocks_interceptions</th>\n",
       "      <th>recoveries</th>\n",
       "      <th>value</th>\n",
       "      <th>transfers_balance</th>\n",
       "      <th>selected</th>\n",
       "      <th>transfers_in</th>\n",
       "      <th>transfers_out</th>\n",
       "    </tr>\n",
       "  </thead>\n",
       "  <tbody>\n",
       "    <tr>\n",
       "      <th>502</th>\n",
       "      <td>252</td>\n",
       "      <td>7</td>\n",
       "      <td>16</td>\n",
       "      <td>14</td>\n",
       "      <td>True</td>\n",
       "      <td>2022-04-04T17:10:00Z</td>\n",
       "      <td>3</td>\n",
       "      <td>1</td>\n",
       "      <td>1</td>\n",
       "      <td>89</td>\n",
       "      <td>...</td>\n",
       "      <td>0</td>\n",
       "      <td>2</td>\n",
       "      <td>0</td>\n",
       "      <td>2</td>\n",
       "      <td>2</td>\n",
       "      <td>100</td>\n",
       "      <td>0</td>\n",
       "      <td>11215</td>\n",
       "      <td>0</td>\n",
       "      <td>0</td>\n",
       "    </tr>\n",
       "    <tr>\n",
       "      <th>503</th>\n",
       "      <td>252</td>\n",
       "      <td>13</td>\n",
       "      <td>14</td>\n",
       "      <td>3</td>\n",
       "      <td>False</td>\n",
       "      <td>2022-04-10T15:30:00Z</td>\n",
       "      <td>1</td>\n",
       "      <td>0</td>\n",
       "      <td>2</td>\n",
       "      <td>90</td>\n",
       "      <td>...</td>\n",
       "      <td>1</td>\n",
       "      <td>2</td>\n",
       "      <td>0</td>\n",
       "      <td>1</td>\n",
       "      <td>1</td>\n",
       "      <td>100</td>\n",
       "      <td>752</td>\n",
       "      <td>12942</td>\n",
       "      <td>839</td>\n",
       "      <td>87</td>\n",
       "    </tr>\n",
       "  </tbody>\n",
       "</table>\n",
       "<p>2 rows × 33 columns</p>\n",
       "</div>"
      ],
      "text/plain": [
       "    element  fixture opponent_team  total_points  was_home  \\\n",
       "502     252        7            16            14      True   \n",
       "503     252       13            14             3     False   \n",
       "\n",
       "             kickoff_time  team_h_score  team_a_score  round  minutes  ...  \\\n",
       "502  2022-04-04T17:10:00Z             3             1      1       89  ...   \n",
       "503  2022-04-10T15:30:00Z             1             0      2       90  ...   \n",
       "\n",
       "     crosses  key_passes  big_chances_created  \\\n",
       "502        0           2                    0   \n",
       "503        1           2                    0   \n",
       "\n",
       "     clearances_blocks_interceptions  recoveries  value  transfers_balance  \\\n",
       "502                                2           2    100                  0   \n",
       "503                                1           1    100                752   \n",
       "\n",
       "     selected  transfers_in  transfers_out  \n",
       "502     11215             0              0  \n",
       "503     12942           839             87  \n",
       "\n",
       "[2 rows x 33 columns]"
      ]
     },
     "execution_count": 7,
     "metadata": {},
     "output_type": "execute_result"
    }
   ],
   "source": [
    "df_tmp[df_tmp[\"element\"] == \"252\"]"
   ]
  },
  {
   "cell_type": "code",
   "execution_count": 8,
   "id": "7485253b",
   "metadata": {
    "scrolled": true
   },
   "outputs": [],
   "source": [
    "df_tmp = df_tmp[['element', 'opponent_team', 'was_home', 'total_points', 'round']]"
   ]
  },
  {
   "cell_type": "code",
   "execution_count": 9,
   "id": "c30dc917",
   "metadata": {},
   "outputs": [
    {
     "data": {
      "text/plain": [
       "(862, 5)"
      ]
     },
     "execution_count": 9,
     "metadata": {},
     "output_type": "execute_result"
    }
   ],
   "source": [
    "df_tmp.shape"
   ]
  },
  {
   "cell_type": "code",
   "execution_count": 10,
   "id": "3b28d032",
   "metadata": {},
   "outputs": [
    {
     "data": {
      "text/html": [
       "<div>\n",
       "<style scoped>\n",
       "    .dataframe tbody tr th:only-of-type {\n",
       "        vertical-align: middle;\n",
       "    }\n",
       "\n",
       "    .dataframe tbody tr th {\n",
       "        vertical-align: top;\n",
       "    }\n",
       "\n",
       "    .dataframe thead th {\n",
       "        text-align: right;\n",
       "    }\n",
       "</style>\n",
       "<table border=\"1\" class=\"dataframe\">\n",
       "  <thead>\n",
       "    <tr style=\"text-align: right;\">\n",
       "      <th></th>\n",
       "      <th>element</th>\n",
       "      <th>opponent_team</th>\n",
       "      <th>was_home</th>\n",
       "      <th>total_points</th>\n",
       "      <th>round</th>\n",
       "    </tr>\n",
       "  </thead>\n",
       "  <tbody>\n",
       "    <tr>\n",
       "      <th>502</th>\n",
       "      <td>252</td>\n",
       "      <td>16</td>\n",
       "      <td>True</td>\n",
       "      <td>14</td>\n",
       "      <td>1</td>\n",
       "    </tr>\n",
       "    <tr>\n",
       "      <th>503</th>\n",
       "      <td>252</td>\n",
       "      <td>14</td>\n",
       "      <td>False</td>\n",
       "      <td>3</td>\n",
       "      <td>2</td>\n",
       "    </tr>\n",
       "  </tbody>\n",
       "</table>\n",
       "</div>"
      ],
      "text/plain": [
       "    element opponent_team  was_home  total_points  round\n",
       "502     252            16      True            14      1\n",
       "503     252            14     False             3      2"
      ]
     },
     "execution_count": 10,
     "metadata": {},
     "output_type": "execute_result"
    }
   ],
   "source": [
    "df_tmp[df_tmp[\"element\"] == \"252\"]"
   ]
  },
  {
   "cell_type": "code",
   "execution_count": 11,
   "id": "cd163c90",
   "metadata": {
    "scrolled": true
   },
   "outputs": [
    {
     "data": {
      "text/plain": [
       "element          0\n",
       "opponent_team    0\n",
       "was_home         0\n",
       "total_points     0\n",
       "round            0\n",
       "dtype: int64"
      ]
     },
     "execution_count": 11,
     "metadata": {},
     "output_type": "execute_result"
    }
   ],
   "source": [
    "df_tmp.isna().sum()"
   ]
  },
  {
   "cell_type": "code",
   "execution_count": 12,
   "id": "61281011",
   "metadata": {
    "scrolled": true
   },
   "outputs": [],
   "source": [
    "df_tmp = df_tmp.dropna()"
   ]
  },
  {
   "cell_type": "code",
   "execution_count": 13,
   "id": "3ceceda4",
   "metadata": {
    "scrolled": true
   },
   "outputs": [
    {
     "data": {
      "text/plain": [
       "element          0\n",
       "opponent_team    0\n",
       "was_home         0\n",
       "total_points     0\n",
       "round            0\n",
       "dtype: int64"
      ]
     },
     "execution_count": 13,
     "metadata": {},
     "output_type": "execute_result"
    }
   ],
   "source": [
    "df_tmp.isna().sum()"
   ]
  },
  {
   "cell_type": "code",
   "execution_count": 14,
   "id": "e2bfa567",
   "metadata": {},
   "outputs": [
    {
     "data": {
      "text/html": [
       "<div>\n",
       "<style scoped>\n",
       "    .dataframe tbody tr th:only-of-type {\n",
       "        vertical-align: middle;\n",
       "    }\n",
       "\n",
       "    .dataframe tbody tr th {\n",
       "        vertical-align: top;\n",
       "    }\n",
       "\n",
       "    .dataframe thead th {\n",
       "        text-align: right;\n",
       "    }\n",
       "</style>\n",
       "<table border=\"1\" class=\"dataframe\">\n",
       "  <thead>\n",
       "    <tr style=\"text-align: right;\">\n",
       "      <th></th>\n",
       "      <th>element</th>\n",
       "      <th>opponent_team</th>\n",
       "      <th>was_home</th>\n",
       "      <th>total_points</th>\n",
       "      <th>round</th>\n",
       "    </tr>\n",
       "  </thead>\n",
       "  <tbody>\n",
       "    <tr>\n",
       "      <th>502</th>\n",
       "      <td>252</td>\n",
       "      <td>16</td>\n",
       "      <td>True</td>\n",
       "      <td>14</td>\n",
       "      <td>1</td>\n",
       "    </tr>\n",
       "    <tr>\n",
       "      <th>503</th>\n",
       "      <td>252</td>\n",
       "      <td>14</td>\n",
       "      <td>False</td>\n",
       "      <td>3</td>\n",
       "      <td>2</td>\n",
       "    </tr>\n",
       "  </tbody>\n",
       "</table>\n",
       "</div>"
      ],
      "text/plain": [
       "    element opponent_team  was_home  total_points  round\n",
       "502     252            16      True            14      1\n",
       "503     252            14     False             3      2"
      ]
     },
     "execution_count": 14,
     "metadata": {},
     "output_type": "execute_result"
    }
   ],
   "source": [
    "df_tmp[df_tmp[\"element\"] == \"252\"]"
   ]
  },
  {
   "cell_type": "code",
   "execution_count": 15,
   "id": "23535ce4",
   "metadata": {
    "scrolled": true
   },
   "outputs": [
    {
     "name": "stdout",
     "output_type": "stream",
     "text": [
      "CPU times: user 665 ms, sys: 334 ms, total: 999 ms\n",
      "Wall time: 4.74 s\n"
     ]
    },
    {
     "data": {
      "text/plain": [
       "RandomForestRegressor(n_jobs=-1, random_state=1234)"
      ]
     },
     "execution_count": 15,
     "metadata": {},
     "output_type": "execute_result"
    }
   ],
   "source": [
    "%%time\n",
    "from sklearn.ensemble import RandomForestRegressor\n",
    "\n",
    "model = RandomForestRegressor(n_jobs=-1, random_state=1234)\n",
    "\n",
    "df_tmp_X = df_tmp.drop(\"total_points\", axis=1)\n",
    "df_tmp_Y = df_tmp[\"total_points\"]\n",
    "model.fit(df_tmp_X, df_tmp_Y)"
   ]
  },
  {
   "cell_type": "code",
   "execution_count": 16,
   "id": "b3979ce9",
   "metadata": {},
   "outputs": [],
   "source": [
    "def plot_features(columns, importances):\n",
    "    df = (pd.DataFrame({'features': columns, 'feature_importances': importances})\n",
    "          .sort_values('feature_importances', ascending=False))\n",
    "    \n",
    "    fig, ax = plt.subplots()\n",
    "    ax.barh(df['features'], df['feature_importances'])\n",
    "    ax.set_ylabel(\"Features\")\n",
    "    ax.set_xlabel(\"Feature importance\")\n",
    "    ax.invert_yaxis()"
   ]
  },
  {
   "cell_type": "code",
   "execution_count": 17,
   "id": "149eca2b",
   "metadata": {
    "scrolled": true
   },
   "outputs": [
    {
     "data": {
      "image/png": "[encoded data removed]",
      "text/plain": [
       "<Figure size 432x288 with 1 Axes>"
      ]
     },
     "metadata": {
      "needs_background": "light"
     },
     "output_type": "display_data"
    }
   ],
   "source": [
    "plot_features(df_tmp_X.columns, model.feature_importances_)"
   ]
  },
  {
   "cell_type": "code",
   "execution_count": 18,
   "id": "5fed1847",
   "metadata": {},
   "outputs": [
    {
     "data": {
      "text/plain": [
       "(862, 4)"
      ]
     },
     "execution_count": 18,
     "metadata": {},
     "output_type": "execute_result"
    }
   ],
   "source": [
    "df_tmp_X.shape"
   ]
  },
  {
   "cell_type": "code",
   "execution_count": 19,
   "id": "d9651b2c",
   "metadata": {
    "scrolled": false
   },
   "outputs": [
    {
     "data": {
      "text/html": [
       "<div>\n",
       "<style scoped>\n",
       "    .dataframe tbody tr th:only-of-type {\n",
       "        vertical-align: middle;\n",
       "    }\n",
       "\n",
       "    .dataframe tbody tr th {\n",
       "        vertical-align: top;\n",
       "    }\n",
       "\n",
       "    .dataframe thead th {\n",
       "        text-align: right;\n",
       "    }\n",
       "</style>\n",
       "<table border=\"1\" class=\"dataframe\">\n",
       "  <thead>\n",
       "    <tr style=\"text-align: right;\">\n",
       "      <th></th>\n",
       "      <th>element</th>\n",
       "      <th>opponent_team</th>\n",
       "      <th>was_home</th>\n",
       "      <th>round</th>\n",
       "    </tr>\n",
       "  </thead>\n",
       "  <tbody>\n",
       "    <tr>\n",
       "      <th>661</th>\n",
       "      <td>331</td>\n",
       "      <td>10</td>\n",
       "      <td>True</td>\n",
       "      <td>2</td>\n",
       "    </tr>\n",
       "    <tr>\n",
       "      <th>797</th>\n",
       "      <td>399</td>\n",
       "      <td>6</td>\n",
       "      <td>True</td>\n",
       "      <td>2</td>\n",
       "    </tr>\n",
       "    <tr>\n",
       "      <th>332</th>\n",
       "      <td>167</td>\n",
       "      <td>18</td>\n",
       "      <td>True</td>\n",
       "      <td>1</td>\n",
       "    </tr>\n",
       "    <tr>\n",
       "      <th>716</th>\n",
       "      <td>359</td>\n",
       "      <td>5</td>\n",
       "      <td>False</td>\n",
       "      <td>1</td>\n",
       "    </tr>\n",
       "    <tr>\n",
       "      <th>530</th>\n",
       "      <td>266</td>\n",
       "      <td>13</td>\n",
       "      <td>True</td>\n",
       "      <td>1</td>\n",
       "    </tr>\n",
       "  </tbody>\n",
       "</table>\n",
       "</div>"
      ],
      "text/plain": [
       "    element opponent_team  was_home  round\n",
       "661     331            10      True      2\n",
       "797     399             6      True      2\n",
       "332     167            18      True      1\n",
       "716     359             5     False      1\n",
       "530     266            13      True      1"
      ]
     },
     "execution_count": 19,
     "metadata": {},
     "output_type": "execute_result"
    }
   ],
   "source": [
    "df_tmp_X.sample(5)"
   ]
  },
  {
   "cell_type": "code",
   "execution_count": 20,
   "id": "b69b396f",
   "metadata": {},
   "outputs": [
    {
     "name": "stdout",
     "output_type": "stream",
     "text": [
      "<class 'pandas.core.frame.DataFrame'>\n",
      "Int64Index: 862 entries, 0 to 861\n",
      "Data columns (total 4 columns):\n",
      " #   Column         Non-Null Count  Dtype \n",
      "---  ------         --------------  ----- \n",
      " 0   element        862 non-null    object\n",
      " 1   opponent_team  862 non-null    object\n",
      " 2   was_home       862 non-null    bool  \n",
      " 3   round          862 non-null    int64 \n",
      "dtypes: bool(1), int64(1), object(2)\n",
      "memory usage: 27.8+ KB\n"
     ]
    }
   ],
   "source": [
    "df_tmp_X.info()"
   ]
  },
  {
   "cell_type": "code",
   "execution_count": 23,
   "id": "c0c66419",
   "metadata": {
    "scrolled": true
   },
   "outputs": [
    {
     "data": {
      "image/png": "[encoded data removed]",
      "text/plain": [
       "<Figure size 720x1080 with 2 Axes>"
      ]
     },
     "metadata": {
      "needs_background": "light"
     },
     "output_type": "display_data"
    }
   ],
   "source": [
    "import numpy as np\n",
    "import scipy as sp\n",
    "from scipy.cluster import hierarchy as hc\n",
    "import seaborn as sns\n",
    "\n",
    "def cluster_columns(df, figsize=(10,6), font_size=12):\n",
    "    corr = sp.stats.spearmanr(df).correlation\n",
    "    \n",
    "    fix, ax = plt.subplots(figsize=(10, 15))\n",
    "    ax = sns.heatmap(corr, annot=True, linewidths=0.5, fmt='.3f', cmap='YlGnBu')\n",
    "    plt.show()\n",
    "    \n",
    "cluster_columns(df_tmp_X)"
   ]
  },
  {
   "cell_type": "code",
   "execution_count": 24,
   "id": "1621824e",
   "metadata": {},
   "outputs": [
    {
     "name": "stdout",
     "output_type": "stream",
     "text": [
      "(862, 4)\n",
      "(861, 4)\n"
     ]
    }
   ],
   "source": [
    "from scipy.cluster.hierarchy import dendrogram, linkage\n",
    "\n",
    "def cluster_columns(df):\n",
    "    print(df.shape)\n",
    "    linked = linkage(df)\n",
    "    print(linked.shape)\n",
    "    \n",
    "    \n",
    "cluster_columns(df_tmp_X)"
   ]
  },
  {
   "cell_type": "code",
   "execution_count": 25,
   "id": "d365b213",
   "metadata": {
    "scrolled": true
   },
   "outputs": [
    {
     "data": {
      "image/png": "[encoded data removed]",
      "text/plain": [
       "<Figure size 1440x1152 with 1 Axes>"
      ]
     },
     "metadata": {
      "needs_background": "light"
     },
     "output_type": "display_data"
    }
   ],
   "source": [
    "import numpy as np\n",
    "from scipy.cluster import hierarchy as hc\n",
    "from scipy.spatial.distance import pdist, squareform\n",
    "from scipy.cluster.hierarchy import linkage, dendrogram\n",
    "\n",
    "\n",
    "def cluster_columns(df, figsize=(20,16), font_size=12):\n",
    "    corr = np.round(sp.stats.spearmanr(df).correlation, 4)\n",
    "    corr_condensed = hc.distance.squareform(1-corr)\n",
    "    z = hc.linkage(corr_condensed, method='average')\n",
    "    fig = plt.figure(figsize=figsize)\n",
    "    hc.dendrogram(z, labels=df.columns, orientation='left', leaf_font_size=font_size)\n",
    "    plt.show()\n",
    "    \n",
    "cluster_columns(df_tmp_X)"
   ]
  },
  {
   "cell_type": "markdown",
   "id": "5449cb0b",
   "metadata": {},
   "source": [
    "## Predict"
   ]
  },
  {
   "cell_type": "code",
   "execution_count": 36,
   "id": "f5b4f51d",
   "metadata": {
    "scrolled": true
   },
   "outputs": [
    {
     "data": {
      "text/html": [
       "<div>\n",
       "<style scoped>\n",
       "    .dataframe tbody tr th:only-of-type {\n",
       "        vertical-align: middle;\n",
       "    }\n",
       "\n",
       "    .dataframe tbody tr th {\n",
       "        vertical-align: top;\n",
       "    }\n",
       "\n",
       "    .dataframe thead th {\n",
       "        text-align: right;\n",
       "    }\n",
       "</style>\n",
       "<table border=\"1\" class=\"dataframe\">\n",
       "  <thead>\n",
       "    <tr style=\"text-align: right;\">\n",
       "      <th></th>\n",
       "      <th>element</th>\n",
       "      <th>opponent_team</th>\n",
       "      <th>was_home</th>\n",
       "      <th>round</th>\n",
       "    </tr>\n",
       "  </thead>\n",
       "  <tbody>\n",
       "    <tr>\n",
       "      <th>0</th>\n",
       "      <td>1</td>\n",
       "      <td>5</td>\n",
       "      <td>True</td>\n",
       "      <td>3</td>\n",
       "    </tr>\n",
       "    <tr>\n",
       "      <th>1</th>\n",
       "      <td>225</td>\n",
       "      <td>6</td>\n",
       "      <td>True</td>\n",
       "      <td>3</td>\n",
       "    </tr>\n",
       "    <tr>\n",
       "      <th>2</th>\n",
       "      <td>252</td>\n",
       "      <td>6</td>\n",
       "      <td>True</td>\n",
       "      <td>3</td>\n",
       "    </tr>\n",
       "    <tr>\n",
       "      <th>3</th>\n",
       "      <td>252</td>\n",
       "      <td>9</td>\n",
       "      <td>True</td>\n",
       "      <td>3</td>\n",
       "    </tr>\n",
       "    <tr>\n",
       "      <th>4</th>\n",
       "      <td>252</td>\n",
       "      <td>9</td>\n",
       "      <td>False</td>\n",
       "      <td>3</td>\n",
       "    </tr>\n",
       "    <tr>\n",
       "      <th>5</th>\n",
       "      <td>123</td>\n",
       "      <td>2</td>\n",
       "      <td>False</td>\n",
       "      <td>3</td>\n",
       "    </tr>\n",
       "  </tbody>\n",
       "</table>\n",
       "</div>"
      ],
      "text/plain": [
       "  element opponent_team  was_home  round\n",
       "0       1             5      True      3\n",
       "1     225             6      True      3\n",
       "2     252             6      True      3\n",
       "3     252             9      True      3\n",
       "4     252             9     False      3\n",
       "5     123             2     False      3"
      ]
     },
     "execution_count": 36,
     "metadata": {},
     "output_type": "execute_result"
    }
   ],
   "source": [
    "df_test = pd.DataFrame({\"element\": [\"1\", \"225\", \"252\", \"252\", \"252\", \"123\"], \n",
    "                        \"opponent_team\": [\"5\", \"6\", \"6\", \"9\", \"9\", \"2\"],\n",
    "                        \"was_home\": [True, True, True, True, False, False],\n",
    "                        \"round\": [3, 3, 3, 3, 3, 3]\n",
    "                       })\n",
    "df_test"
   ]
  },
  {
   "cell_type": "code",
   "execution_count": 44,
   "id": "3d708169",
   "metadata": {
    "scrolled": true
   },
   "outputs": [
    {
     "data": {
      "text/html": [
       "<div>\n",
       "<style scoped>\n",
       "    .dataframe tbody tr th:only-of-type {\n",
       "        vertical-align: middle;\n",
       "    }\n",
       "\n",
       "    .dataframe tbody tr th {\n",
       "        vertical-align: top;\n",
       "    }\n",
       "\n",
       "    .dataframe thead th {\n",
       "        text-align: right;\n",
       "    }\n",
       "</style>\n",
       "<table border=\"1\" class=\"dataframe\">\n",
       "  <thead>\n",
       "    <tr style=\"text-align: right;\">\n",
       "      <th></th>\n",
       "      <th>element</th>\n",
       "      <th>opponent_team</th>\n",
       "      <th>was_home</th>\n",
       "      <th>total_points</th>\n",
       "      <th>round</th>\n",
       "    </tr>\n",
       "  </thead>\n",
       "  <tbody>\n",
       "    <tr>\n",
       "      <th>0</th>\n",
       "      <td>1</td>\n",
       "      <td>10</td>\n",
       "      <td>False</td>\n",
       "      <td>6</td>\n",
       "      <td>1</td>\n",
       "    </tr>\n",
       "    <tr>\n",
       "      <th>1</th>\n",
       "      <td>1</td>\n",
       "      <td>5</td>\n",
       "      <td>True</td>\n",
       "      <td>3</td>\n",
       "      <td>2</td>\n",
       "    </tr>\n",
       "    <tr>\n",
       "      <th>244</th>\n",
       "      <td>123</td>\n",
       "      <td>19</td>\n",
       "      <td>True</td>\n",
       "      <td>0</td>\n",
       "      <td>1</td>\n",
       "    </tr>\n",
       "    <tr>\n",
       "      <th>245</th>\n",
       "      <td>123</td>\n",
       "      <td>17</td>\n",
       "      <td>False</td>\n",
       "      <td>0</td>\n",
       "      <td>2</td>\n",
       "    </tr>\n",
       "    <tr>\n",
       "      <th>448</th>\n",
       "      <td>225</td>\n",
       "      <td>12</td>\n",
       "      <td>True</td>\n",
       "      <td>20</td>\n",
       "      <td>1</td>\n",
       "    </tr>\n",
       "    <tr>\n",
       "      <th>449</th>\n",
       "      <td>225</td>\n",
       "      <td>16</td>\n",
       "      <td>False</td>\n",
       "      <td>0</td>\n",
       "      <td>2</td>\n",
       "    </tr>\n",
       "    <tr>\n",
       "      <th>502</th>\n",
       "      <td>252</td>\n",
       "      <td>16</td>\n",
       "      <td>True</td>\n",
       "      <td>14</td>\n",
       "      <td>1</td>\n",
       "    </tr>\n",
       "    <tr>\n",
       "      <th>503</th>\n",
       "      <td>252</td>\n",
       "      <td>14</td>\n",
       "      <td>False</td>\n",
       "      <td>3</td>\n",
       "      <td>2</td>\n",
       "    </tr>\n",
       "  </tbody>\n",
       "</table>\n",
       "</div>"
      ],
      "text/plain": [
       "    element opponent_team  was_home  total_points  round\n",
       "0         1            10     False             6      1\n",
       "1         1             5      True             3      2\n",
       "244     123            19      True             0      1\n",
       "245     123            17     False             0      2\n",
       "448     225            12      True            20      1\n",
       "449     225            16     False             0      2\n",
       "502     252            16      True            14      1\n",
       "503     252            14     False             3      2"
      ]
     },
     "execution_count": 44,
     "metadata": {},
     "output_type": "execute_result"
    }
   ],
   "source": [
    "df_tmp[df_tmp[\"element\"].isin([\"1\", \"123\", \"225\", \"252\"])]"
   ]
  },
  {
   "cell_type": "code",
   "execution_count": 46,
   "id": "e6b78197",
   "metadata": {},
   "outputs": [
    {
     "data": {
      "text/plain": [
       "array([2.96, 9.83, 2.03, 2.18, 1.99, 0.41])"
      ]
     },
     "execution_count": 46,
     "metadata": {},
     "output_type": "execute_result"
    }
   ],
   "source": [
    "model.predict(df_test)"
   ]
  },
  {
   "cell_type": "code",
   "execution_count": 47,
   "id": "c01d5f31",
   "metadata": {},
   "outputs": [
    {
     "name": "stdout",
     "output_type": "stream",
     "text": [
      "<class 'pandas.core.frame.DataFrame'>\n",
      "Int64Index: 862 entries, 0 to 861\n",
      "Data columns (total 4 columns):\n",
      " #   Column         Non-Null Count  Dtype \n",
      "---  ------         --------------  ----- \n",
      " 0   element        862 non-null    object\n",
      " 1   opponent_team  862 non-null    object\n",
      " 2   was_home       862 non-null    bool  \n",
      " 3   round          862 non-null    int64 \n",
      "dtypes: bool(1), int64(1), object(2)\n",
      "memory usage: 60.1+ KB\n"
     ]
    }
   ],
   "source": [
    "df_tmp_X.info()"
   ]
  },
  {
   "cell_type": "code",
   "execution_count": null,
   "id": "75e812d0",
   "metadata": {},
   "outputs": [],
   "source": []
  }
 ],
 "metadata": {
  "kernelspec": {
   "display_name": "Python 3",
   "language": "python",
   "name": "python3"
  },
  "language_info": {
   "codemirror_mode": {
    "name": "ipython",
    "version": 3
   },
   "file_extension": ".py",
   "mimetype": "text/x-python",
   "name": "python",
   "nbconvert_exporter": "python",
   "pygments_lexer": "ipython3",
   "version": "3.9.6"
  }
 },
 "nbformat": 4,
 "nbformat_minor": 5
}
