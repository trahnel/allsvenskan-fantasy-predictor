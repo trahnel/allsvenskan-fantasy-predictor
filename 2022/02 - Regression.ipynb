{
 "cells": [
  {
   "cell_type": "code",
   "execution_count": 171,
   "id": "4bb169d1",
   "metadata": {},
   "outputs": [],
   "source": [
    "import pandas as pd\n",
    "\n",
    "%matplotlib inline\n",
    "import matplotlib.pyplot as plt"
   ]
  },
  {
   "cell_type": "code",
   "execution_count": 215,
   "id": "9f300ecf",
   "metadata": {
    "scrolled": false
   },
   "outputs": [
    {
     "data": {
      "text/html": [
       "<div>\n",
       "<style scoped>\n",
       "    .dataframe tbody tr th:only-of-type {\n",
       "        vertical-align: middle;\n",
       "    }\n",
       "\n",
       "    .dataframe tbody tr th {\n",
       "        vertical-align: top;\n",
       "    }\n",
       "\n",
       "    .dataframe thead th {\n",
       "        text-align: right;\n",
       "    }\n",
       "</style>\n",
       "<table border=\"1\" class=\"dataframe\">\n",
       "  <thead>\n",
       "    <tr style=\"text-align: right;\">\n",
       "      <th></th>\n",
       "      <th>0</th>\n",
       "      <th>1</th>\n",
       "      <th>2</th>\n",
       "      <th>3</th>\n",
       "      <th>4</th>\n",
       "    </tr>\n",
       "  </thead>\n",
       "  <tbody>\n",
       "    <tr>\n",
       "      <th>element</th>\n",
       "      <td>1</td>\n",
       "      <td>2</td>\n",
       "      <td>3</td>\n",
       "      <td>4</td>\n",
       "      <td>5</td>\n",
       "    </tr>\n",
       "    <tr>\n",
       "      <th>fixture</th>\n",
       "      <td>6</td>\n",
       "      <td>6</td>\n",
       "      <td>6</td>\n",
       "      <td>6</td>\n",
       "      <td>6</td>\n",
       "    </tr>\n",
       "    <tr>\n",
       "      <th>opponent_team</th>\n",
       "      <td>10</td>\n",
       "      <td>10</td>\n",
       "      <td>10</td>\n",
       "      <td>10</td>\n",
       "      <td>10</td>\n",
       "    </tr>\n",
       "    <tr>\n",
       "      <th>total_points</th>\n",
       "      <td>6</td>\n",
       "      <td>0</td>\n",
       "      <td>0</td>\n",
       "      <td>0</td>\n",
       "      <td>7</td>\n",
       "    </tr>\n",
       "    <tr>\n",
       "      <th>was_home</th>\n",
       "      <td>False</td>\n",
       "      <td>False</td>\n",
       "      <td>False</td>\n",
       "      <td>False</td>\n",
       "      <td>False</td>\n",
       "    </tr>\n",
       "    <tr>\n",
       "      <th>kickoff_time</th>\n",
       "      <td>2022-04-03T15:30:00Z</td>\n",
       "      <td>2022-04-03T15:30:00Z</td>\n",
       "      <td>2022-04-03T15:30:00Z</td>\n",
       "      <td>2022-04-03T15:30:00Z</td>\n",
       "      <td>2022-04-03T15:30:00Z</td>\n",
       "    </tr>\n",
       "    <tr>\n",
       "      <th>team_h_score</th>\n",
       "      <td>0</td>\n",
       "      <td>0</td>\n",
       "      <td>0</td>\n",
       "      <td>0</td>\n",
       "      <td>0</td>\n",
       "    </tr>\n",
       "    <tr>\n",
       "      <th>team_a_score</th>\n",
       "      <td>1</td>\n",
       "      <td>1</td>\n",
       "      <td>1</td>\n",
       "      <td>1</td>\n",
       "      <td>1</td>\n",
       "    </tr>\n",
       "    <tr>\n",
       "      <th>round</th>\n",
       "      <td>1</td>\n",
       "      <td>1</td>\n",
       "      <td>1</td>\n",
       "      <td>1</td>\n",
       "      <td>1</td>\n",
       "    </tr>\n",
       "    <tr>\n",
       "      <th>minutes</th>\n",
       "      <td>90</td>\n",
       "      <td>0</td>\n",
       "      <td>0</td>\n",
       "      <td>0</td>\n",
       "      <td>90</td>\n",
       "    </tr>\n",
       "    <tr>\n",
       "      <th>goals_scored</th>\n",
       "      <td>0</td>\n",
       "      <td>0</td>\n",
       "      <td>0</td>\n",
       "      <td>0</td>\n",
       "      <td>0</td>\n",
       "    </tr>\n",
       "    <tr>\n",
       "      <th>assists</th>\n",
       "      <td>0</td>\n",
       "      <td>0</td>\n",
       "      <td>0</td>\n",
       "      <td>0</td>\n",
       "      <td>0</td>\n",
       "    </tr>\n",
       "    <tr>\n",
       "      <th>clean_sheets</th>\n",
       "      <td>1</td>\n",
       "      <td>0</td>\n",
       "      <td>0</td>\n",
       "      <td>0</td>\n",
       "      <td>1</td>\n",
       "    </tr>\n",
       "    <tr>\n",
       "      <th>goals_conceded</th>\n",
       "      <td>0</td>\n",
       "      <td>0</td>\n",
       "      <td>0</td>\n",
       "      <td>0</td>\n",
       "      <td>0</td>\n",
       "    </tr>\n",
       "    <tr>\n",
       "      <th>penalties_saved</th>\n",
       "      <td>0</td>\n",
       "      <td>0</td>\n",
       "      <td>0</td>\n",
       "      <td>0</td>\n",
       "      <td>0</td>\n",
       "    </tr>\n",
       "    <tr>\n",
       "      <th>penalties_missed</th>\n",
       "      <td>0</td>\n",
       "      <td>0</td>\n",
       "      <td>0</td>\n",
       "      <td>0</td>\n",
       "      <td>0</td>\n",
       "    </tr>\n",
       "    <tr>\n",
       "      <th>yellow_cards</th>\n",
       "      <td>0</td>\n",
       "      <td>0</td>\n",
       "      <td>0</td>\n",
       "      <td>0</td>\n",
       "      <td>1</td>\n",
       "    </tr>\n",
       "    <tr>\n",
       "      <th>red_cards</th>\n",
       "      <td>0</td>\n",
       "      <td>0</td>\n",
       "      <td>0</td>\n",
       "      <td>0</td>\n",
       "      <td>0</td>\n",
       "    </tr>\n",
       "    <tr>\n",
       "      <th>saves</th>\n",
       "      <td>1</td>\n",
       "      <td>0</td>\n",
       "      <td>0</td>\n",
       "      <td>0</td>\n",
       "      <td>0</td>\n",
       "    </tr>\n",
       "    <tr>\n",
       "      <th>own_goals</th>\n",
       "      <td>0</td>\n",
       "      <td>0</td>\n",
       "      <td>0</td>\n",
       "      <td>0</td>\n",
       "      <td>0</td>\n",
       "    </tr>\n",
       "    <tr>\n",
       "      <th>attacking_bonus</th>\n",
       "      <td>0</td>\n",
       "      <td>0</td>\n",
       "      <td>0</td>\n",
       "      <td>0</td>\n",
       "      <td>0</td>\n",
       "    </tr>\n",
       "    <tr>\n",
       "      <th>defending_bonus</th>\n",
       "      <td>0</td>\n",
       "      <td>0</td>\n",
       "      <td>0</td>\n",
       "      <td>0</td>\n",
       "      <td>2</td>\n",
       "    </tr>\n",
       "    <tr>\n",
       "      <th>winning_goals</th>\n",
       "      <td>0</td>\n",
       "      <td>0</td>\n",
       "      <td>0</td>\n",
       "      <td>0</td>\n",
       "      <td>0</td>\n",
       "    </tr>\n",
       "    <tr>\n",
       "      <th>crosses</th>\n",
       "      <td>0</td>\n",
       "      <td>0</td>\n",
       "      <td>0</td>\n",
       "      <td>0</td>\n",
       "      <td>0</td>\n",
       "    </tr>\n",
       "    <tr>\n",
       "      <th>key_passes</th>\n",
       "      <td>0</td>\n",
       "      <td>0</td>\n",
       "      <td>0</td>\n",
       "      <td>0</td>\n",
       "      <td>0</td>\n",
       "    </tr>\n",
       "    <tr>\n",
       "      <th>big_chances_created</th>\n",
       "      <td>0</td>\n",
       "      <td>0</td>\n",
       "      <td>0</td>\n",
       "      <td>0</td>\n",
       "      <td>0</td>\n",
       "    </tr>\n",
       "    <tr>\n",
       "      <th>clearances_blocks_interceptions</th>\n",
       "      <td>6</td>\n",
       "      <td>0</td>\n",
       "      <td>0</td>\n",
       "      <td>0</td>\n",
       "      <td>19</td>\n",
       "    </tr>\n",
       "    <tr>\n",
       "      <th>recoveries</th>\n",
       "      <td>5</td>\n",
       "      <td>0</td>\n",
       "      <td>0</td>\n",
       "      <td>0</td>\n",
       "      <td>7</td>\n",
       "    </tr>\n",
       "    <tr>\n",
       "      <th>value</th>\n",
       "      <td>60</td>\n",
       "      <td>45</td>\n",
       "      <td>60</td>\n",
       "      <td>60</td>\n",
       "      <td>55</td>\n",
       "    </tr>\n",
       "    <tr>\n",
       "      <th>transfers_balance</th>\n",
       "      <td>0</td>\n",
       "      <td>0</td>\n",
       "      <td>0</td>\n",
       "      <td>0</td>\n",
       "      <td>0</td>\n",
       "    </tr>\n",
       "    <tr>\n",
       "      <th>selected</th>\n",
       "      <td>4920</td>\n",
       "      <td>1073</td>\n",
       "      <td>567</td>\n",
       "      <td>13</td>\n",
       "      <td>2637</td>\n",
       "    </tr>\n",
       "    <tr>\n",
       "      <th>transfers_in</th>\n",
       "      <td>0</td>\n",
       "      <td>0</td>\n",
       "      <td>0</td>\n",
       "      <td>0</td>\n",
       "      <td>0</td>\n",
       "    </tr>\n",
       "    <tr>\n",
       "      <th>transfers_out</th>\n",
       "      <td>0</td>\n",
       "      <td>0</td>\n",
       "      <td>0</td>\n",
       "      <td>0</td>\n",
       "      <td>0</td>\n",
       "    </tr>\n",
       "  </tbody>\n",
       "</table>\n",
       "</div>"
      ],
      "text/plain": [
       "                                                    0                     1  \\\n",
       "element                                             1                     2   \n",
       "fixture                                             6                     6   \n",
       "opponent_team                                      10                    10   \n",
       "total_points                                        6                     0   \n",
       "was_home                                        False                 False   \n",
       "kickoff_time                     2022-04-03T15:30:00Z  2022-04-03T15:30:00Z   \n",
       "team_h_score                                        0                     0   \n",
       "team_a_score                                        1                     1   \n",
       "round                                               1                     1   \n",
       "minutes                                            90                     0   \n",
       "goals_scored                                        0                     0   \n",
       "assists                                             0                     0   \n",
       "clean_sheets                                        1                     0   \n",
       "goals_conceded                                      0                     0   \n",
       "penalties_saved                                     0                     0   \n",
       "penalties_missed                                    0                     0   \n",
       "yellow_cards                                        0                     0   \n",
       "red_cards                                           0                     0   \n",
       "saves                                               1                     0   \n",
       "own_goals                                           0                     0   \n",
       "attacking_bonus                                     0                     0   \n",
       "defending_bonus                                     0                     0   \n",
       "winning_goals                                       0                     0   \n",
       "crosses                                             0                     0   \n",
       "key_passes                                          0                     0   \n",
       "big_chances_created                                 0                     0   \n",
       "clearances_blocks_interceptions                     6                     0   \n",
       "recoveries                                          5                     0   \n",
       "value                                              60                    45   \n",
       "transfers_balance                                   0                     0   \n",
       "selected                                         4920                  1073   \n",
       "transfers_in                                        0                     0   \n",
       "transfers_out                                       0                     0   \n",
       "\n",
       "                                                    2                     3  \\\n",
       "element                                             3                     4   \n",
       "fixture                                             6                     6   \n",
       "opponent_team                                      10                    10   \n",
       "total_points                                        0                     0   \n",
       "was_home                                        False                 False   \n",
       "kickoff_time                     2022-04-03T15:30:00Z  2022-04-03T15:30:00Z   \n",
       "team_h_score                                        0                     0   \n",
       "team_a_score                                        1                     1   \n",
       "round                                               1                     1   \n",
       "minutes                                             0                     0   \n",
       "goals_scored                                        0                     0   \n",
       "assists                                             0                     0   \n",
       "clean_sheets                                        0                     0   \n",
       "goals_conceded                                      0                     0   \n",
       "penalties_saved                                     0                     0   \n",
       "penalties_missed                                    0                     0   \n",
       "yellow_cards                                        0                     0   \n",
       "red_cards                                           0                     0   \n",
       "saves                                               0                     0   \n",
       "own_goals                                           0                     0   \n",
       "attacking_bonus                                     0                     0   \n",
       "defending_bonus                                     0                     0   \n",
       "winning_goals                                       0                     0   \n",
       "crosses                                             0                     0   \n",
       "key_passes                                          0                     0   \n",
       "big_chances_created                                 0                     0   \n",
       "clearances_blocks_interceptions                     0                     0   \n",
       "recoveries                                          0                     0   \n",
       "value                                              60                    60   \n",
       "transfers_balance                                   0                     0   \n",
       "selected                                          567                    13   \n",
       "transfers_in                                        0                     0   \n",
       "transfers_out                                       0                     0   \n",
       "\n",
       "                                                    4  \n",
       "element                                             5  \n",
       "fixture                                             6  \n",
       "opponent_team                                      10  \n",
       "total_points                                        7  \n",
       "was_home                                        False  \n",
       "kickoff_time                     2022-04-03T15:30:00Z  \n",
       "team_h_score                                        0  \n",
       "team_a_score                                        1  \n",
       "round                                               1  \n",
       "minutes                                            90  \n",
       "goals_scored                                        0  \n",
       "assists                                             0  \n",
       "clean_sheets                                        1  \n",
       "goals_conceded                                      0  \n",
       "penalties_saved                                     0  \n",
       "penalties_missed                                    0  \n",
       "yellow_cards                                        1  \n",
       "red_cards                                           0  \n",
       "saves                                               0  \n",
       "own_goals                                           0  \n",
       "attacking_bonus                                     0  \n",
       "defending_bonus                                     2  \n",
       "winning_goals                                       0  \n",
       "crosses                                             0  \n",
       "key_passes                                          0  \n",
       "big_chances_created                                 0  \n",
       "clearances_blocks_interceptions                    19  \n",
       "recoveries                                          7  \n",
       "value                                              55  \n",
       "transfers_balance                                   0  \n",
       "selected                                         2637  \n",
       "transfers_in                                        0  \n",
       "transfers_out                                       0  "
      ]
     },
     "execution_count": 215,
     "metadata": {},
     "output_type": "execute_result"
    }
   ],
   "source": [
    "# Load player history (training data)\n",
    "# df_train = pd.read_csv('data/during-season/player_history.csv', parse_dates=['kickoff_time'])\n",
    "df_train = pd.read_csv('data/during-season/player_history.csv',\n",
    "                       dtype={'element': str, 'opponent_team': str})\n",
    "df_train.head(5).T"
   ]
  },
  {
   "cell_type": "code",
   "execution_count": 216,
   "id": "909e3443",
   "metadata": {},
   "outputs": [
    {
     "data": {
      "text/html": [
       "<div>\n",
       "<style scoped>\n",
       "    .dataframe tbody tr th:only-of-type {\n",
       "        vertical-align: middle;\n",
       "    }\n",
       "\n",
       "    .dataframe tbody tr th {\n",
       "        vertical-align: top;\n",
       "    }\n",
       "\n",
       "    .dataframe thead th {\n",
       "        text-align: right;\n",
       "    }\n",
       "</style>\n",
       "<table border=\"1\" class=\"dataframe\">\n",
       "  <thead>\n",
       "    <tr style=\"text-align: right;\">\n",
       "      <th></th>\n",
       "      <th>element</th>\n",
       "      <th>fixture</th>\n",
       "      <th>opponent_team</th>\n",
       "      <th>total_points</th>\n",
       "      <th>was_home</th>\n",
       "      <th>kickoff_time</th>\n",
       "      <th>team_h_score</th>\n",
       "      <th>team_a_score</th>\n",
       "      <th>round</th>\n",
       "      <th>minutes</th>\n",
       "      <th>...</th>\n",
       "      <th>crosses</th>\n",
       "      <th>key_passes</th>\n",
       "      <th>big_chances_created</th>\n",
       "      <th>clearances_blocks_interceptions</th>\n",
       "      <th>recoveries</th>\n",
       "      <th>value</th>\n",
       "      <th>transfers_balance</th>\n",
       "      <th>selected</th>\n",
       "      <th>transfers_in</th>\n",
       "      <th>transfers_out</th>\n",
       "    </tr>\n",
       "  </thead>\n",
       "  <tbody>\n",
       "  </tbody>\n",
       "</table>\n",
       "<p>0 rows × 33 columns</p>\n",
       "</div>"
      ],
      "text/plain": [
       "Empty DataFrame\n",
       "Columns: [element, fixture, opponent_team, total_points, was_home, kickoff_time, team_h_score, team_a_score, round, minutes, goals_scored, assists, clean_sheets, goals_conceded, penalties_saved, penalties_missed, yellow_cards, red_cards, saves, own_goals, attacking_bonus, defending_bonus, winning_goals, crosses, key_passes, big_chances_created, clearances_blocks_interceptions, recoveries, value, transfers_balance, selected, transfers_in, transfers_out]\n",
       "Index: []\n",
       "\n",
       "[0 rows x 33 columns]"
      ]
     },
     "execution_count": 216,
     "metadata": {},
     "output_type": "execute_result"
    }
   ],
   "source": [
    "df_train[df_train[\"element\"] == 252]"
   ]
  },
  {
   "cell_type": "code",
   "execution_count": 217,
   "id": "d8db389c",
   "metadata": {
    "scrolled": true
   },
   "outputs": [
    {
     "name": "stdout",
     "output_type": "stream",
     "text": [
      "<class 'pandas.core.frame.DataFrame'>\n",
      "RangeIndex: 430 entries, 0 to 429\n",
      "Data columns (total 33 columns):\n",
      " #   Column                           Non-Null Count  Dtype \n",
      "---  ------                           --------------  ----- \n",
      " 0   element                          430 non-null    object\n",
      " 1   fixture                          430 non-null    int64 \n",
      " 2   opponent_team                    430 non-null    object\n",
      " 3   total_points                     430 non-null    int64 \n",
      " 4   was_home                         430 non-null    bool  \n",
      " 5   kickoff_time                     430 non-null    object\n",
      " 6   team_h_score                     430 non-null    int64 \n",
      " 7   team_a_score                     430 non-null    int64 \n",
      " 8   round                            430 non-null    int64 \n",
      " 9   minutes                          430 non-null    int64 \n",
      " 10  goals_scored                     430 non-null    int64 \n",
      " 11  assists                          430 non-null    int64 \n",
      " 12  clean_sheets                     430 non-null    int64 \n",
      " 13  goals_conceded                   430 non-null    int64 \n",
      " 14  penalties_saved                  430 non-null    int64 \n",
      " 15  penalties_missed                 430 non-null    int64 \n",
      " 16  yellow_cards                     430 non-null    int64 \n",
      " 17  red_cards                        430 non-null    int64 \n",
      " 18  saves                            430 non-null    int64 \n",
      " 19  own_goals                        430 non-null    int64 \n",
      " 20  attacking_bonus                  430 non-null    int64 \n",
      " 21  defending_bonus                  430 non-null    int64 \n",
      " 22  winning_goals                    430 non-null    int64 \n",
      " 23  crosses                          430 non-null    int64 \n",
      " 24  key_passes                       430 non-null    int64 \n",
      " 25  big_chances_created              430 non-null    int64 \n",
      " 26  clearances_blocks_interceptions  430 non-null    int64 \n",
      " 27  recoveries                       430 non-null    int64 \n",
      " 28  value                            430 non-null    int64 \n",
      " 29  transfers_balance                430 non-null    int64 \n",
      " 30  selected                         430 non-null    int64 \n",
      " 31  transfers_in                     430 non-null    int64 \n",
      " 32  transfers_out                    430 non-null    int64 \n",
      "dtypes: bool(1), int64(29), object(3)\n",
      "memory usage: 108.0+ KB\n"
     ]
    }
   ],
   "source": [
    "df_train.info()"
   ]
  },
  {
   "cell_type": "code",
   "execution_count": 218,
   "id": "a9b27489",
   "metadata": {
    "scrolled": true
   },
   "outputs": [
    {
     "data": {
      "text/plain": [
       "Index(['element', 'fixture', 'opponent_team', 'total_points', 'was_home',\n",
       "       'kickoff_time', 'team_h_score', 'team_a_score', 'round', 'minutes',\n",
       "       'goals_scored', 'assists', 'clean_sheets', 'goals_conceded',\n",
       "       'penalties_saved', 'penalties_missed', 'yellow_cards', 'red_cards',\n",
       "       'saves', 'own_goals', 'attacking_bonus', 'defending_bonus',\n",
       "       'winning_goals', 'crosses', 'key_passes', 'big_chances_created',\n",
       "       'clearances_blocks_interceptions', 'recoveries', 'value',\n",
       "       'transfers_balance', 'selected', 'transfers_in', 'transfers_out'],\n",
       "      dtype='object')"
      ]
     },
     "execution_count": 218,
     "metadata": {},
     "output_type": "execute_result"
    }
   ],
   "source": [
    "df_tmp = df_train.copy()\n",
    "df_tmp.columns"
   ]
  },
  {
   "cell_type": "code",
   "execution_count": 220,
   "id": "5a502822",
   "metadata": {},
   "outputs": [
    {
     "data": {
      "text/html": [
       "<div>\n",
       "<style scoped>\n",
       "    .dataframe tbody tr th:only-of-type {\n",
       "        vertical-align: middle;\n",
       "    }\n",
       "\n",
       "    .dataframe tbody tr th {\n",
       "        vertical-align: top;\n",
       "    }\n",
       "\n",
       "    .dataframe thead th {\n",
       "        text-align: right;\n",
       "    }\n",
       "</style>\n",
       "<table border=\"1\" class=\"dataframe\">\n",
       "  <thead>\n",
       "    <tr style=\"text-align: right;\">\n",
       "      <th></th>\n",
       "      <th>element</th>\n",
       "      <th>fixture</th>\n",
       "      <th>opponent_team</th>\n",
       "      <th>total_points</th>\n",
       "      <th>was_home</th>\n",
       "      <th>kickoff_time</th>\n",
       "      <th>team_h_score</th>\n",
       "      <th>team_a_score</th>\n",
       "      <th>round</th>\n",
       "      <th>minutes</th>\n",
       "      <th>...</th>\n",
       "      <th>crosses</th>\n",
       "      <th>key_passes</th>\n",
       "      <th>big_chances_created</th>\n",
       "      <th>clearances_blocks_interceptions</th>\n",
       "      <th>recoveries</th>\n",
       "      <th>value</th>\n",
       "      <th>transfers_balance</th>\n",
       "      <th>selected</th>\n",
       "      <th>transfers_in</th>\n",
       "      <th>transfers_out</th>\n",
       "    </tr>\n",
       "  </thead>\n",
       "  <tbody>\n",
       "    <tr>\n",
       "      <th>251</th>\n",
       "      <td>252</td>\n",
       "      <td>7</td>\n",
       "      <td>16</td>\n",
       "      <td>14</td>\n",
       "      <td>True</td>\n",
       "      <td>2022-04-04T17:10:00Z</td>\n",
       "      <td>3</td>\n",
       "      <td>1</td>\n",
       "      <td>1</td>\n",
       "      <td>89</td>\n",
       "      <td>...</td>\n",
       "      <td>0</td>\n",
       "      <td>2</td>\n",
       "      <td>0</td>\n",
       "      <td>2</td>\n",
       "      <td>2</td>\n",
       "      <td>100</td>\n",
       "      <td>0</td>\n",
       "      <td>11215</td>\n",
       "      <td>0</td>\n",
       "      <td>0</td>\n",
       "    </tr>\n",
       "  </tbody>\n",
       "</table>\n",
       "<p>1 rows × 33 columns</p>\n",
       "</div>"
      ],
      "text/plain": [
       "    element  fixture opponent_team  total_points  was_home  \\\n",
       "251     252        7            16            14      True   \n",
       "\n",
       "             kickoff_time  team_h_score  team_a_score  round  minutes  ...  \\\n",
       "251  2022-04-04T17:10:00Z             3             1      1       89  ...   \n",
       "\n",
       "     crosses  key_passes  big_chances_created  \\\n",
       "251        0           2                    0   \n",
       "\n",
       "     clearances_blocks_interceptions  recoveries  value  transfers_balance  \\\n",
       "251                                2           2    100                  0   \n",
       "\n",
       "     selected  transfers_in  transfers_out  \n",
       "251     11215             0              0  \n",
       "\n",
       "[1 rows x 33 columns]"
      ]
     },
     "execution_count": 220,
     "metadata": {},
     "output_type": "execute_result"
    }
   ],
   "source": [
    "df_tmp[df_tmp[\"element\"] == \"252\"]"
   ]
  },
  {
   "cell_type": "code",
   "execution_count": 221,
   "id": "7485253b",
   "metadata": {
    "scrolled": true
   },
   "outputs": [],
   "source": [
    "df_tmp = df_tmp[['element', 'opponent_team', 'was_home', 'total_points']]"
   ]
  },
  {
   "cell_type": "code",
   "execution_count": 222,
   "id": "c30dc917",
   "metadata": {},
   "outputs": [
    {
     "data": {
      "text/plain": [
       "(430, 4)"
      ]
     },
     "execution_count": 222,
     "metadata": {},
     "output_type": "execute_result"
    }
   ],
   "source": [
    "df_tmp.shape"
   ]
  },
  {
   "cell_type": "code",
   "execution_count": 223,
   "id": "3b28d032",
   "metadata": {},
   "outputs": [
    {
     "data": {
      "text/html": [
       "<div>\n",
       "<style scoped>\n",
       "    .dataframe tbody tr th:only-of-type {\n",
       "        vertical-align: middle;\n",
       "    }\n",
       "\n",
       "    .dataframe tbody tr th {\n",
       "        vertical-align: top;\n",
       "    }\n",
       "\n",
       "    .dataframe thead th {\n",
       "        text-align: right;\n",
       "    }\n",
       "</style>\n",
       "<table border=\"1\" class=\"dataframe\">\n",
       "  <thead>\n",
       "    <tr style=\"text-align: right;\">\n",
       "      <th></th>\n",
       "      <th>element</th>\n",
       "      <th>opponent_team</th>\n",
       "      <th>was_home</th>\n",
       "      <th>total_points</th>\n",
       "    </tr>\n",
       "  </thead>\n",
       "  <tbody>\n",
       "    <tr>\n",
       "      <th>251</th>\n",
       "      <td>252</td>\n",
       "      <td>16</td>\n",
       "      <td>True</td>\n",
       "      <td>14</td>\n",
       "    </tr>\n",
       "  </tbody>\n",
       "</table>\n",
       "</div>"
      ],
      "text/plain": [
       "    element opponent_team  was_home  total_points\n",
       "251     252            16      True            14"
      ]
     },
     "execution_count": 223,
     "metadata": {},
     "output_type": "execute_result"
    }
   ],
   "source": [
    "df_tmp[df_tmp[\"element\"] == \"252\"]"
   ]
  },
  {
   "cell_type": "code",
   "execution_count": 224,
   "id": "cd163c90",
   "metadata": {
    "scrolled": true
   },
   "outputs": [
    {
     "data": {
      "text/plain": [
       "element          0\n",
       "opponent_team    0\n",
       "was_home         0\n",
       "total_points     0\n",
       "dtype: int64"
      ]
     },
     "execution_count": 224,
     "metadata": {},
     "output_type": "execute_result"
    }
   ],
   "source": [
    "df_tmp.isna().sum()"
   ]
  },
  {
   "cell_type": "code",
   "execution_count": 225,
   "id": "61281011",
   "metadata": {
    "scrolled": true
   },
   "outputs": [],
   "source": [
    "df_tmp = df_tmp.dropna()"
   ]
  },
  {
   "cell_type": "code",
   "execution_count": 226,
   "id": "3ceceda4",
   "metadata": {
    "scrolled": true
   },
   "outputs": [
    {
     "data": {
      "text/plain": [
       "element          0\n",
       "opponent_team    0\n",
       "was_home         0\n",
       "total_points     0\n",
       "dtype: int64"
      ]
     },
     "execution_count": 226,
     "metadata": {},
     "output_type": "execute_result"
    }
   ],
   "source": [
    "df_tmp.isna().sum()"
   ]
  },
  {
   "cell_type": "code",
   "execution_count": 227,
   "id": "e2bfa567",
   "metadata": {},
   "outputs": [
    {
     "data": {
      "text/html": [
       "<div>\n",
       "<style scoped>\n",
       "    .dataframe tbody tr th:only-of-type {\n",
       "        vertical-align: middle;\n",
       "    }\n",
       "\n",
       "    .dataframe tbody tr th {\n",
       "        vertical-align: top;\n",
       "    }\n",
       "\n",
       "    .dataframe thead th {\n",
       "        text-align: right;\n",
       "    }\n",
       "</style>\n",
       "<table border=\"1\" class=\"dataframe\">\n",
       "  <thead>\n",
       "    <tr style=\"text-align: right;\">\n",
       "      <th></th>\n",
       "      <th>element</th>\n",
       "      <th>opponent_team</th>\n",
       "      <th>was_home</th>\n",
       "      <th>total_points</th>\n",
       "    </tr>\n",
       "  </thead>\n",
       "  <tbody>\n",
       "    <tr>\n",
       "      <th>251</th>\n",
       "      <td>252</td>\n",
       "      <td>16</td>\n",
       "      <td>True</td>\n",
       "      <td>14</td>\n",
       "    </tr>\n",
       "  </tbody>\n",
       "</table>\n",
       "</div>"
      ],
      "text/plain": [
       "    element opponent_team  was_home  total_points\n",
       "251     252            16      True            14"
      ]
     },
     "execution_count": 227,
     "metadata": {},
     "output_type": "execute_result"
    }
   ],
   "source": [
    "df_tmp[df_tmp[\"element\"] == \"252\"]"
   ]
  },
  {
   "cell_type": "code",
   "execution_count": 228,
   "id": "23535ce4",
   "metadata": {
    "scrolled": true
   },
   "outputs": [
    {
     "name": "stdout",
     "output_type": "stream",
     "text": [
      "CPU times: user 129 ms, sys: 55.4 ms, total: 185 ms\n",
      "Wall time: 107 ms\n"
     ]
    },
    {
     "data": {
      "text/plain": [
       "RandomForestRegressor(n_jobs=-1, random_state=1234)"
      ]
     },
     "execution_count": 228,
     "metadata": {},
     "output_type": "execute_result"
    }
   ],
   "source": [
    "%%time\n",
    "from sklearn.ensemble import RandomForestRegressor\n",
    "\n",
    "model = RandomForestRegressor(n_jobs=-1, random_state=1234)\n",
    "\n",
    "df_tmp_X = df_tmp.drop(\"total_points\", axis=1)\n",
    "df_tmp_Y = df_tmp[\"total_points\"]\n",
    "model.fit(df_tmp_X, df_tmp_Y)"
   ]
  },
  {
   "cell_type": "code",
   "execution_count": 229,
   "id": "b3979ce9",
   "metadata": {},
   "outputs": [],
   "source": [
    "def plot_features(columns, importances):\n",
    "    df = (pd.DataFrame({'features': columns, 'feature_importances': importances})\n",
    "          .sort_values('feature_importances', ascending=False))\n",
    "    \n",
    "    fig, ax = plt.subplots()\n",
    "    ax.barh(df['features'], df['feature_importances'])\n",
    "    ax.set_ylabel(\"Features\")\n",
    "    ax.set_xlabel(\"Feature importance\")\n",
    "    ax.invert_yaxis()"
   ]
  },
  {
   "cell_type": "code",
   "execution_count": 230,
   "id": "149eca2b",
   "metadata": {
    "scrolled": true
   },
   "outputs": [
    {
     "data": {
      "image/png": "[encoded data removed]",
      "text/plain": [
       "<Figure size 432x288 with 1 Axes>"
      ]
     },
     "metadata": {
      "needs_background": "light"
     },
     "output_type": "display_data"
    }
   ],
   "source": [
    "plot_features(df_tmp_X.columns, model.feature_importances_)"
   ]
  },
  {
   "cell_type": "code",
   "execution_count": 231,
   "id": "5fed1847",
   "metadata": {},
   "outputs": [
    {
     "data": {
      "text/plain": [
       "(430, 3)"
      ]
     },
     "execution_count": 231,
     "metadata": {},
     "output_type": "execute_result"
    }
   ],
   "source": [
    "df_tmp_X.shape"
   ]
  },
  {
   "cell_type": "code",
   "execution_count": 232,
   "id": "d9651b2c",
   "metadata": {
    "scrolled": false
   },
   "outputs": [
    {
     "data": {
      "text/html": [
       "<div>\n",
       "<style scoped>\n",
       "    .dataframe tbody tr th:only-of-type {\n",
       "        vertical-align: middle;\n",
       "    }\n",
       "\n",
       "    .dataframe tbody tr th {\n",
       "        vertical-align: top;\n",
       "    }\n",
       "\n",
       "    .dataframe thead th {\n",
       "        text-align: right;\n",
       "    }\n",
       "</style>\n",
       "<table border=\"1\" class=\"dataframe\">\n",
       "  <thead>\n",
       "    <tr style=\"text-align: right;\">\n",
       "      <th></th>\n",
       "      <th>element</th>\n",
       "      <th>opponent_team</th>\n",
       "      <th>was_home</th>\n",
       "    </tr>\n",
       "  </thead>\n",
       "  <tbody>\n",
       "    <tr>\n",
       "      <th>274</th>\n",
       "      <td>275</td>\n",
       "      <td>13</td>\n",
       "      <td>True</td>\n",
       "    </tr>\n",
       "    <tr>\n",
       "      <th>197</th>\n",
       "      <td>198</td>\n",
       "      <td>14</td>\n",
       "      <td>True</td>\n",
       "    </tr>\n",
       "    <tr>\n",
       "      <th>282</th>\n",
       "      <td>283</td>\n",
       "      <td>1</td>\n",
       "      <td>True</td>\n",
       "    </tr>\n",
       "    <tr>\n",
       "      <th>303</th>\n",
       "      <td>304</td>\n",
       "      <td>6</td>\n",
       "      <td>False</td>\n",
       "    </tr>\n",
       "    <tr>\n",
       "      <th>165</th>\n",
       "      <td>166</td>\n",
       "      <td>18</td>\n",
       "      <td>True</td>\n",
       "    </tr>\n",
       "  </tbody>\n",
       "</table>\n",
       "</div>"
      ],
      "text/plain": [
       "    element opponent_team  was_home\n",
       "274     275            13      True\n",
       "197     198            14      True\n",
       "282     283             1      True\n",
       "303     304             6     False\n",
       "165     166            18      True"
      ]
     },
     "execution_count": 232,
     "metadata": {},
     "output_type": "execute_result"
    }
   ],
   "source": [
    "df_tmp_X.sample(5)"
   ]
  },
  {
   "cell_type": "code",
   "execution_count": 233,
   "id": "b69b396f",
   "metadata": {},
   "outputs": [
    {
     "name": "stdout",
     "output_type": "stream",
     "text": [
      "<class 'pandas.core.frame.DataFrame'>\n",
      "Int64Index: 430 entries, 0 to 429\n",
      "Data columns (total 3 columns):\n",
      " #   Column         Non-Null Count  Dtype \n",
      "---  ------         --------------  ----- \n",
      " 0   element        430 non-null    object\n",
      " 1   opponent_team  430 non-null    object\n",
      " 2   was_home       430 non-null    bool  \n",
      "dtypes: bool(1), object(2)\n",
      "memory usage: 10.5+ KB\n"
     ]
    }
   ],
   "source": [
    "df_tmp_X.info()"
   ]
  },
  {
   "cell_type": "code",
   "execution_count": 234,
   "id": "c0c66419",
   "metadata": {
    "scrolled": true
   },
   "outputs": [
    {
     "data": {
      "image/png": "[encoded data removed]",
      "text/plain": [
       "<Figure size 720x1080 with 2 Axes>"
      ]
     },
     "metadata": {
      "needs_background": "light"
     },
     "output_type": "display_data"
    }
   ],
   "source": [
    "import numpy as np\n",
    "from scipy.cluster import hierarchy as hc\n",
    "\n",
    "def cluster_columns(df, figsize=(10,6), font_size=12):\n",
    "    corr = sp.stats.spearmanr(df).correlation\n",
    "    \n",
    "    fix, ax = plt.subplots(figsize=(10, 15))\n",
    "    ax = sns.heatmap(corr, annot=True, linewidths=0.5, fmt='.3f', cmap='YlGnBu')\n",
    "    plt.show()\n",
    "    \n",
    "cluster_columns(df_tmp_X)"
   ]
  },
  {
   "cell_type": "code",
   "execution_count": 235,
   "id": "1621824e",
   "metadata": {},
   "outputs": [
    {
     "name": "stdout",
     "output_type": "stream",
     "text": [
      "(430, 3)\n",
      "(429, 4)\n"
     ]
    }
   ],
   "source": [
    "from scipy.cluster.hierarchy import dendrogram, linkage\n",
    "\n",
    "def cluster_columns(df):\n",
    "    print(df.shape)\n",
    "    linked = linkage(df)\n",
    "    print(linked.shape)\n",
    "    \n",
    "    \n",
    "cluster_columns(df_tmp_X)"
   ]
  },
  {
   "cell_type": "code",
   "execution_count": 236,
   "id": "d365b213",
   "metadata": {
    "scrolled": true
   },
   "outputs": [
    {
     "data": {
      "image/png": "[encoded data removed]",
      "text/plain": [
       "<Figure size 1440x1152 with 1 Axes>"
      ]
     },
     "metadata": {
      "needs_background": "light"
     },
     "output_type": "display_data"
    }
   ],
   "source": [
    "import numpy as np\n",
    "import scipy as sp\n",
    "from scipy.cluster import hierarchy as hc\n",
    "from scipy.spatial.distance import pdist, squareform\n",
    "from scipy.cluster.hierarchy import linkage, dendrogram\n",
    "\n",
    "\n",
    "def cluster_columns(df, figsize=(20,16), font_size=12):\n",
    "    corr = np.round(sp.stats.spearmanr(df).correlation, 4)\n",
    "    corr_condensed = hc.distance.squareform(1-corr)\n",
    "    z = hc.linkage(corr_condensed, method='average')\n",
    "    fig = plt.figure(figsize=figsize)\n",
    "    hc.dendrogram(z, labels=df.columns, orientation='left', leaf_font_size=font_size)\n",
    "    plt.show()\n",
    "    \n",
    "cluster_columns(df_tmp_X)"
   ]
  },
  {
   "cell_type": "markdown",
   "id": "5449cb0b",
   "metadata": {},
   "source": [
    "## Predict"
   ]
  },
  {
   "cell_type": "code",
   "execution_count": 238,
   "id": "f5b4f51d",
   "metadata": {},
   "outputs": [
    {
     "data": {
      "text/html": [
       "<div>\n",
       "<style scoped>\n",
       "    .dataframe tbody tr th:only-of-type {\n",
       "        vertical-align: middle;\n",
       "    }\n",
       "\n",
       "    .dataframe tbody tr th {\n",
       "        vertical-align: top;\n",
       "    }\n",
       "\n",
       "    .dataframe thead th {\n",
       "        text-align: right;\n",
       "    }\n",
       "</style>\n",
       "<table border=\"1\" class=\"dataframe\">\n",
       "  <thead>\n",
       "    <tr style=\"text-align: right;\">\n",
       "      <th></th>\n",
       "      <th>element</th>\n",
       "      <th>opponent_team</th>\n",
       "      <th>was_home</th>\n",
       "    </tr>\n",
       "  </thead>\n",
       "  <tbody>\n",
       "    <tr>\n",
       "      <th>0</th>\n",
       "      <td>1</td>\n",
       "      <td>5</td>\n",
       "      <td>True</td>\n",
       "    </tr>\n",
       "    <tr>\n",
       "      <th>1</th>\n",
       "      <td>225</td>\n",
       "      <td>6</td>\n",
       "      <td>True</td>\n",
       "    </tr>\n",
       "    <tr>\n",
       "      <th>2</th>\n",
       "      <td>252</td>\n",
       "      <td>6</td>\n",
       "      <td>True</td>\n",
       "    </tr>\n",
       "    <tr>\n",
       "      <th>3</th>\n",
       "      <td>252</td>\n",
       "      <td>9</td>\n",
       "      <td>True</td>\n",
       "    </tr>\n",
       "    <tr>\n",
       "      <th>4</th>\n",
       "      <td>252</td>\n",
       "      <td>9</td>\n",
       "      <td>False</td>\n",
       "    </tr>\n",
       "    <tr>\n",
       "      <th>5</th>\n",
       "      <td>123</td>\n",
       "      <td>2</td>\n",
       "      <td>False</td>\n",
       "    </tr>\n",
       "  </tbody>\n",
       "</table>\n",
       "</div>"
      ],
      "text/plain": [
       "  element opponent_team  was_home\n",
       "0       1             5      True\n",
       "1     225             6      True\n",
       "2     252             6      True\n",
       "3     252             9      True\n",
       "4     252             9     False\n",
       "5     123             2     False"
      ]
     },
     "execution_count": 238,
     "metadata": {},
     "output_type": "execute_result"
    }
   ],
   "source": [
    "df_test = pd.DataFrame({\"element\": [\"1\", \"225\", \"252\", \"252\", \"252\", \"123\"], \n",
    "                        \"opponent_team\": [\"5\", \"6\", \"6\", \"9\", \"9\", \"2\"],\n",
    "                        \"was_home\": [True, True, True, True, False, False]})\n",
    "df_test"
   ]
  },
  {
   "cell_type": "code",
   "execution_count": 239,
   "id": "e6b78197",
   "metadata": {},
   "outputs": [
    {
     "data": {
      "text/plain": [
       "array([ 4.16, 11.91,  3.1 ,  3.08,  3.03,  0.45])"
      ]
     },
     "execution_count": 239,
     "metadata": {},
     "output_type": "execute_result"
    }
   ],
   "source": [
    "model.predict(df_test)"
   ]
  },
  {
   "cell_type": "code",
   "execution_count": 240,
   "id": "c01d5f31",
   "metadata": {},
   "outputs": [
    {
     "name": "stdout",
     "output_type": "stream",
     "text": [
      "<class 'pandas.core.frame.DataFrame'>\n",
      "Int64Index: 430 entries, 0 to 429\n",
      "Data columns (total 3 columns):\n",
      " #   Column         Non-Null Count  Dtype \n",
      "---  ------         --------------  ----- \n",
      " 0   element        430 non-null    object\n",
      " 1   opponent_team  430 non-null    object\n",
      " 2   was_home       430 non-null    bool  \n",
      "dtypes: bool(1), object(2)\n",
      "memory usage: 10.5+ KB\n"
     ]
    }
   ],
   "source": [
    "df_tmp_X.info()"
   ]
  },
  {
   "cell_type": "code",
   "execution_count": null,
   "id": "75e812d0",
   "metadata": {},
   "outputs": [],
   "source": []
  }
 ],
 "metadata": {
  "kernelspec": {
   "display_name": "Python 3",
   "language": "python",
   "name": "python3"
  },
  "language_info": {
   "codemirror_mode": {
    "name": "ipython",
    "version": 3
   },
   "file_extension": ".py",
   "mimetype": "text/x-python",
   "name": "python",
   "nbconvert_exporter": "python",
   "pygments_lexer": "ipython3",
   "version": "3.9.6"
  }
 },
 "nbformat": 4,
 "nbformat_minor": 5
}
