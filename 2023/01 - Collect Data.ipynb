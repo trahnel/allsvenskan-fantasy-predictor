{
 "cells": [
  {
   "cell_type": "code",
   "execution_count": 1,
   "id": "f0ee4eab-2f57-4aff-ad65-497e3d2f6771",
   "metadata": {},
   "outputs": [],
   "source": [
    "import json\n",
    "import pandas as pd\n",
    "import requests\n",
    "\n",
    "from IPython.display import clear_output"
   ]
  },
  {
   "cell_type": "code",
   "execution_count": 2,
   "id": "f45ca308-362a-40e5-8283-ba15e75055b3",
   "metadata": {},
   "outputs": [],
   "source": [
    "# Get fotmob season 2023 data, 67 is the id for Allsvenskan\n",
    "season_response = requests.get('https://www.fotmob.com/api/leagues?id=67&ccode3=THA&season=2023')\n",
    "season_data = season_response.json()"
   ]
  },
  {
   "cell_type": "code",
   "execution_count": 3,
   "id": "b62ed44b-da72-4b0b-95b7-49aafcba02ae",
   "metadata": {},
   "outputs": [],
   "source": [
    "# Store season data\n",
    "with open('data/season.json', 'w+') as json_file:\n",
    "    json.dump(season_data, json_file, indent=2)"
   ]
  },
  {
   "cell_type": "code",
   "execution_count": 4,
   "id": "aa1e1b59-df94-4628-aa0e-0a545b456e79",
   "metadata": {},
   "outputs": [
    {
     "data": {
      "text/plain": [
       "0    4074383\n",
       "1    4074369\n",
       "2    4074381\n",
       "3    4074384\n",
       "4    4074386\n",
       "Name: id, dtype: object"
      ]
     },
     "execution_count": 4,
     "metadata": {},
     "output_type": "execute_result"
    }
   ],
   "source": [
    "# Get all match ids in the season\n",
    "match_ids = pd.DataFrame(season_data['matches']['allMatches'])['id']\n",
    "match_ids.head()"
   ]
  },
  {
   "cell_type": "code",
   "execution_count": 6,
   "id": "baa9afa8-12d5-4d58-aea1-601fc7d7b126",
   "metadata": {},
   "outputs": [
    {
     "name": "stdout",
     "output_type": "stream",
     "text": [
      "Done! Got 240 matches.\n"
     ]
    }
   ],
   "source": [
    "# Get all matches data\n",
    "\n",
    "match_count = match_ids.shape[0]\n",
    "\n",
    "for index, match_id in enumerate(match_ids):\n",
    "    clear_output(wait=True)\n",
    "    print(f'Getting matches ({index+1}/{match_count})')\n",
    "    \n",
    "    match_response = requests.get(f'https://www.fotmob.com/api/matchDetails?matchId={match_id}')\n",
    "    with open(f'data/matches/{match_id}.json', 'w+') as json_file:\n",
    "        json.dump(match_response.json(), json_file, indent=2)\n",
    "\n",
    "clear_output(wait=True)\n",
    "print(f'Done! Got {match_count} matches.')"
   ]
  }
 ],
 "metadata": {
  "kernelspec": {
   "display_name": "Python 3 (ipykernel)",
   "language": "python",
   "name": "python3"
  },
  "language_info": {
   "codemirror_mode": {
    "name": "ipython",
    "version": 3
   },
   "file_extension": ".py",
   "mimetype": "text/x-python",
   "name": "python",
   "nbconvert_exporter": "python",
   "pygments_lexer": "ipython3",
   "version": "3.12.2"
  }
 },
 "nbformat": 4,
 "nbformat_minor": 5
}
